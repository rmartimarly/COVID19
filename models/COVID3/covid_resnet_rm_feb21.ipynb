{
 "cells": [
  {
   "cell_type": "markdown",
   "metadata": {},
   "source": [
    "# COVID 19 classification\n",
    "\n",
    "\n",
    "RM - Version 3, February 2021, working on fastai v1, using HMH hospitales\n",
    "\n",
    "- 17 Feb, Check weather 2 or 3 classes obtain better results\n",
    "- 17 Feb, using efficient net. \n",
    "- 15 Feb Training using bimcv+ and hmhospitales datset and rsna pneumonia challenge.\n",
    "- 11 Feb: triex two class Negative vs Positive not very good results (low especificity, high sensitivity).\n",
    " \n",
    "\n"
   ]
  },
  {
   "cell_type": "raw",
   "metadata": {},
   "source": [
    "robert.marti@udg.edu"
   ]
  },
  {
   "cell_type": "code",
   "execution_count": 37,
   "metadata": {},
   "outputs": [],
   "source": [
    "import os\n",
    "os.environ['CUDA_DEVICE_ORDER']='PCI_BUS_ID'\n",
    "os.environ['CUDA_VISIBLE_DEVICES']='1'"
   ]
  },
  {
   "cell_type": "code",
   "execution_count": 36,
   "metadata": {},
   "outputs": [
    {
     "data": {
      "text/plain": [
       "0"
      ]
     },
     "execution_count": 36,
     "metadata": {},
     "output_type": "execute_result"
    }
   ],
   "source": [
    "import notebook_util \n",
    "notebook_util.pick_gpu_lowest_memory()\n"
   ]
  },
  {
   "cell_type": "code",
   "execution_count": 2,
   "metadata": {},
   "outputs": [],
   "source": [
    "%reload_ext autoreload\n",
    "%autoreload 2\n",
    "%matplotlib inline"
   ]
  },
  {
   "cell_type": "code",
   "execution_count": 3,
   "metadata": {},
   "outputs": [],
   "source": [
    "# from fastai.vision.all import *\n",
    "import pandas as pd\n",
    "import numpy as np\n",
    "import matplotlib.pyplot as plt\n",
    "import shutil\n",
    "import fastai; fastai.__version__\n",
    "from fastai.vision import *\n",
    "from fastai.metrics import error_rate\n",
    "import gc\n",
    "\n",
    "from efficientnet_pytorch import EfficientNet\n"
   ]
  },
  {
   "cell_type": "code",
   "execution_count": 4,
   "metadata": {},
   "outputs": [],
   "source": [
    "bs = 4\n",
    "# bs = 16   # uncomment this line if you run out of memory even after clicking Kernel->Restart\n",
    "size_1 = 256\n",
    "size_2 = 512\n",
    "classes_2= True\n"
   ]
  },
  {
   "cell_type": "markdown",
   "metadata": {},
   "source": [
    "## data"
   ]
  },
  {
   "cell_type": "markdown",
   "metadata": {},
   "source": [
    "14 classes taken from\n",
    "\n",
    "https://www.kaggle.com/c/vinbigdata-chest-xray-abnormalities-detection/data\n",
    "\n",
    "0 - Aortic enlargement\n",
    "1 - Atelectasis\n",
    "2 - Calcification\n",
    "3 - Cardiomegaly\n",
    "4 - Consolidation\n",
    "5 - ILD\n",
    "6 - Infiltration\n",
    "7 - Lung Opacity\n",
    "8 - Nodule/Mass\n",
    "9 - Other lesion\n",
    "10 - Pleural effusion\n",
    "11 - Pleural thickening\n",
    "12 - Pneumothorax\n",
    "13 - Pulmonary fibrosis"
   ]
  },
  {
   "cell_type": "code",
   "execution_count": 5,
   "metadata": {},
   "outputs": [],
   "source": [
    "path ='/home/robert/data/covid/'; path\n",
    "pneumo_labels = \"pneumo|infil|consol|fibros|COVID|opacit|glass|pleural|interstitial\"\n",
    "# pneumo_labels = \"pneumo|infil|consol|fibros|COVID|opacit|glass|pleural|interstitial\"\n",
    "normal_lables = \"normals\"\n"
   ]
  },
  {
   "cell_type": "markdown",
   "metadata": {},
   "source": [
    "### Load Normal from RSNA and PadChest\n",
    "\n",
    "Loading normals and pneumos from RSNA and padchest"
   ]
  },
  {
   "cell_type": "code",
   "execution_count": 6,
   "metadata": {},
   "outputs": [
    {
     "name": "stdout",
     "output_type": "stream",
     "text": [
      "Pneumonia: 5346\n",
      "Normals :  7962\n",
      "Normal train 13308\n",
      "Pneumonia: 8300\n",
      "Normals :  13443\n",
      "Total train 21743\n"
     ]
    },
    {
     "data": {
      "text/html": [
       "<div>\n",
       "<style scoped>\n",
       "    .dataframe tbody tr th:only-of-type {\n",
       "        vertical-align: middle;\n",
       "    }\n",
       "\n",
       "    .dataframe tbody tr th {\n",
       "        vertical-align: top;\n",
       "    }\n",
       "\n",
       "    .dataframe thead th {\n",
       "        text-align: right;\n",
       "    }\n",
       "</style>\n",
       "<table border=\"1\" class=\"dataframe\">\n",
       "  <thead>\n",
       "    <tr style=\"text-align: right;\">\n",
       "      <th></th>\n",
       "      <th>File</th>\n",
       "      <th>Class</th>\n",
       "      <th>valid</th>\n",
       "    </tr>\n",
       "  </thead>\n",
       "  <tbody>\n",
       "    <tr>\n",
       "      <th>0</th>\n",
       "      <td>train_RSNA/processed/003d8fa0-6bf1-40ed-b54c-a...</td>\n",
       "      <td>normal</td>\n",
       "      <td>0</td>\n",
       "    </tr>\n",
       "    <tr>\n",
       "      <th>1</th>\n",
       "      <td>train_RSNA/processed/009eb222-eabc-4150-8121-d...</td>\n",
       "      <td>normal</td>\n",
       "      <td>0</td>\n",
       "    </tr>\n",
       "    <tr>\n",
       "      <th>2</th>\n",
       "      <td>train_RSNA/processed/01027bc3-dc40-4165-a6c3-d...</td>\n",
       "      <td>normal</td>\n",
       "      <td>0</td>\n",
       "    </tr>\n",
       "    <tr>\n",
       "      <th>3</th>\n",
       "      <td>train_RSNA/processed/017c7b5b-618e-4bc9-943c-0...</td>\n",
       "      <td>normal</td>\n",
       "      <td>0</td>\n",
       "    </tr>\n",
       "    <tr>\n",
       "      <th>4</th>\n",
       "      <td>train_RSNA/processed/019ca122-9cdf-4704-b7a9-4...</td>\n",
       "      <td>normal</td>\n",
       "      <td>0</td>\n",
       "    </tr>\n",
       "  </tbody>\n",
       "</table>\n",
       "</div>"
      ],
      "text/plain": [
       "                                                File   Class  valid\n",
       "0  train_RSNA/processed/003d8fa0-6bf1-40ed-b54c-a...  normal      0\n",
       "1  train_RSNA/processed/009eb222-eabc-4150-8121-d...  normal      0\n",
       "2  train_RSNA/processed/01027bc3-dc40-4165-a6c3-d...  normal      0\n",
       "3  train_RSNA/processed/017c7b5b-618e-4bc9-943c-0...  normal      0\n",
       "4  train_RSNA/processed/019ca122-9cdf-4704-b7a9-4...  normal      0"
      ]
     },
     "execution_count": 6,
     "metadata": {},
     "output_type": "execute_result"
    }
   ],
   "source": [
    "dfTrain = pd.read_csv(path+'train_RSNA_processed.csv', header=None)\n",
    "dfTrain['valid'] = 0\n",
    "dfTrain[0] = 'train_RSNA/processed/' + dfTrain[0].astype(str)\n",
    "print(\"Pneumonia:\",sum(dfTrain[1]=='pneumonia'))\n",
    "print(\"Normals : \",sum(dfTrain[1]=='normal'))\n",
    "print('Normal train '+str(len (dfTrain)))\n",
    "\n",
    "# # # adding padchest\n",
    "dfTrain_padchest = pd.read_csv(path+'padchest/train_split_np.csv', header=None)\n",
    "dfTrain_padchest['valid'] = 0\n",
    "dfTrain_padchest[0] = 'padchest/trainNP/processed/' + dfTrain_padchest[0].astype(str)\n",
    "\n",
    "dfTrain = dfTrain.append(dfTrain_padchest)\n",
    "\n",
    "dfTrain.rename(columns={1: \"Class\"},  inplace=True)\n",
    "dfTrain.rename(columns={0: \"File\"},  inplace=True)\n",
    "\n",
    "\n",
    "\n",
    "print(\"Pneumonia:\",sum(dfTrain[\"Class\"]=='pneumonia'))\n",
    "print(\"Normals : \",sum(dfTrain[\"Class\"]=='normal'))\n",
    "print('Total train '+str(len (dfTrain)))\n",
    "dfTrain.head()\n"
   ]
  },
  {
   "cell_type": "markdown",
   "metadata": {},
   "source": [
    "### Load Normal  BIMCV COVID Neg.\n",
    "\n",
    "Adding normals and multiple patologies from bimcv negative\n"
   ]
  },
  {
   "cell_type": "code",
   "execution_count": 7,
   "metadata": {},
   "outputs": [
    {
     "name": "stderr",
     "output_type": "stream",
     "text": [
      "/home/robert/.local/lib/python3.6/site-packages/IPython/core/interactiveshell.py:3063: DtypeWarning: Columns (20) have mixed types.Specify dtype option on import or set low_memory=False.\n",
      "  interactivity=interactivity, compiler=compiler, result=result)\n"
     ]
    }
   ],
   "source": [
    "dfTrain_bim = pd.read_csv(path+'bimcv_covidN_db/bimcv_neg_train_proc.csv', header=0)\n",
    "dfTrain_bim['valid'] = 0\n",
    "dfTrain_bim['File'] = 'bimcv_covidN_db/processed/' + dfTrain_bim['File'].astype(str)+'_8b.png'\n",
    "dfTrain_bim['Class']  = \"normal\"\n",
    "\n",
    "\n"
   ]
  },
  {
   "cell_type": "markdown",
   "metadata": {},
   "source": [
    "Filling the labels: removing Nans\n"
   ]
  },
  {
   "cell_type": "code",
   "execution_count": 8,
   "metadata": {},
   "outputs": [],
   "source": [
    "# dfTrain_bim = dfTrain_bim.replace(np.nan, '', regex=True)\n",
    "dfTrain_bim.Labels.fillna(\"normal\", inplace=True)\n",
    "dfTrain_bim.loc[dfTrain_bim['Labels'].str.contains(pneumo_labels),\"Class\"] = \"pneumonia\"\n"
   ]
  },
  {
   "cell_type": "code",
   "execution_count": 9,
   "metadata": {},
   "outputs": [
    {
     "name": "stdout",
     "output_type": "stream",
     "text": [
      "Pneumonia: 1913\n",
      "Normals :  1621\n",
      "Normal train 3534\n"
     ]
    },
    {
     "data": {
      "text/html": [
       "<div>\n",
       "<style scoped>\n",
       "    .dataframe tbody tr th:only-of-type {\n",
       "        vertical-align: middle;\n",
       "    }\n",
       "\n",
       "    .dataframe tbody tr th {\n",
       "        vertical-align: top;\n",
       "    }\n",
       "\n",
       "    .dataframe thead th {\n",
       "        text-align: right;\n",
       "    }\n",
       "</style>\n",
       "<table border=\"1\" class=\"dataframe\">\n",
       "  <thead>\n",
       "    <tr style=\"text-align: right;\">\n",
       "      <th></th>\n",
       "      <th>Unnamed: 0</th>\n",
       "      <th>Subject</th>\n",
       "      <th>Session</th>\n",
       "      <th>mod</th>\n",
       "      <th>File</th>\n",
       "      <th>Type</th>\n",
       "      <th>Position_Manual</th>\n",
       "      <th>Exclude</th>\n",
       "      <th>Exclude Reason</th>\n",
       "      <th>Labels</th>\n",
       "      <th>...</th>\n",
       "      <th>Detector Type</th>\n",
       "      <th>Imager Pixel Spacing</th>\n",
       "      <th>Exposure Index</th>\n",
       "      <th>Filter Thickness Maximum</th>\n",
       "      <th>Performed Procedure Step Start Time</th>\n",
       "      <th>Bits Stored</th>\n",
       "      <th>Study Instance UID</th>\n",
       "      <th>Patient Gantry Relationship Code Sequence</th>\n",
       "      <th>valid</th>\n",
       "      <th>Class</th>\n",
       "    </tr>\n",
       "  </thead>\n",
       "  <tbody>\n",
       "    <tr>\n",
       "      <th>0</th>\n",
       "      <td>0</td>\n",
       "      <td>sub-S06039</td>\n",
       "      <td>ses-E10945</td>\n",
       "      <td>mod-rx</td>\n",
       "      <td>bimcv_covidN_db/processed/sub-S06039_ses-E1094...</td>\n",
       "      <td>cr</td>\n",
       "      <td>PA</td>\n",
       "      <td>False</td>\n",
       "      <td>NaN</td>\n",
       "      <td>unchanged</td>\n",
       "      <td>...</td>\n",
       "      <td>NaN</td>\n",
       "      <td>0.143, 0.143</td>\n",
       "      <td>NaN</td>\n",
       "      <td>NaN</td>\n",
       "      <td>182705.234</td>\n",
       "      <td>12.0</td>\n",
       "      <td>1.2.840.113654.2.70.1.107288151586885502570645...</td>\n",
       "      <td>NaN</td>\n",
       "      <td>0</td>\n",
       "      <td>normal</td>\n",
       "    </tr>\n",
       "    <tr>\n",
       "      <th>1</th>\n",
       "      <td>2</td>\n",
       "      <td>sub-S06110</td>\n",
       "      <td>ses-E11058</td>\n",
       "      <td>mod-rx</td>\n",
       "      <td>bimcv_covidN_db/processed/sub-S06110_ses-E1105...</td>\n",
       "      <td>dx</td>\n",
       "      <td>PA</td>\n",
       "      <td>False</td>\n",
       "      <td>NaN</td>\n",
       "      <td>infiltrates</td>\n",
       "      <td>...</td>\n",
       "      <td>SCINTILLATOR</td>\n",
       "      <td>0.175, 0.175</td>\n",
       "      <td>67.560167</td>\n",
       "      <td>NaN</td>\n",
       "      <td>212816.000</td>\n",
       "      <td>12.0</td>\n",
       "      <td>1.2.840.113654.2.70.1.216859291845841333754195...</td>\n",
       "      <td>NaN</td>\n",
       "      <td>0</td>\n",
       "      <td>pneumonia</td>\n",
       "    </tr>\n",
       "    <tr>\n",
       "      <th>2</th>\n",
       "      <td>3</td>\n",
       "      <td>sub-S06113</td>\n",
       "      <td>ses-E11062</td>\n",
       "      <td>mod-rx</td>\n",
       "      <td>bimcv_covidN_db/processed/sub-S06113_ses-E1106...</td>\n",
       "      <td>dx</td>\n",
       "      <td>PA</td>\n",
       "      <td>False</td>\n",
       "      <td>NaN</td>\n",
       "      <td>'\\t 'heart insufficiency'\\t ' interstitial pat...</td>\n",
       "      <td>...</td>\n",
       "      <td>NaN</td>\n",
       "      <td>0.138999998569489, 0.138999998569489</td>\n",
       "      <td>NaN</td>\n",
       "      <td>NaN</td>\n",
       "      <td>NaN</td>\n",
       "      <td>16.0</td>\n",
       "      <td>1.2.840.113654.2.70.1.177717506051411834280838...</td>\n",
       "      <td>NaN</td>\n",
       "      <td>0</td>\n",
       "      <td>pneumonia</td>\n",
       "    </tr>\n",
       "    <tr>\n",
       "      <th>3</th>\n",
       "      <td>4</td>\n",
       "      <td>sub-S06116</td>\n",
       "      <td>ses-E11066</td>\n",
       "      <td>mod-rx</td>\n",
       "      <td>bimcv_covidN_db/processed/sub-S06116_ses-E1106...</td>\n",
       "      <td>cr</td>\n",
       "      <td>PA</td>\n",
       "      <td>False</td>\n",
       "      <td>NaN</td>\n",
       "      <td>suboptimal study'\\t 'fibrotic band'\\t 'COPD si...</td>\n",
       "      <td>...</td>\n",
       "      <td>NaN</td>\n",
       "      <td>0.1, 0.1</td>\n",
       "      <td>NaN</td>\n",
       "      <td>NaN</td>\n",
       "      <td>NaN</td>\n",
       "      <td>12.0</td>\n",
       "      <td>1.2.840.113654.2.70.1.287550085791502471302689...</td>\n",
       "      <td>NaN</td>\n",
       "      <td>0</td>\n",
       "      <td>pneumonia</td>\n",
       "    </tr>\n",
       "    <tr>\n",
       "      <th>4</th>\n",
       "      <td>5</td>\n",
       "      <td>sub-S06145</td>\n",
       "      <td>ses-E11104</td>\n",
       "      <td>mod-rx</td>\n",
       "      <td>bimcv_covidN_db/processed/sub-S06145_ses-E1110...</td>\n",
       "      <td>dx</td>\n",
       "      <td>PA</td>\n",
       "      <td>False</td>\n",
       "      <td>NaN</td>\n",
       "      <td>interstitial pattern</td>\n",
       "      <td>...</td>\n",
       "      <td>SCINTILLATOR</td>\n",
       "      <td>0.194553, 0.194553</td>\n",
       "      <td>NaN</td>\n",
       "      <td>NaN</td>\n",
       "      <td>115109.000</td>\n",
       "      <td>14.0</td>\n",
       "      <td>1.2.840.113654.2.70.1.227917490972241029816891...</td>\n",
       "      <td>{'00080100': {'Value': F-10470, 'vr': 'SH'}, '...</td>\n",
       "      <td>0</td>\n",
       "      <td>pneumonia</td>\n",
       "    </tr>\n",
       "  </tbody>\n",
       "</table>\n",
       "<p>5 rows × 264 columns</p>\n",
       "</div>"
      ],
      "text/plain": [
       "   Unnamed: 0     Subject     Session     mod  \\\n",
       "0           0  sub-S06039  ses-E10945  mod-rx   \n",
       "1           2  sub-S06110  ses-E11058  mod-rx   \n",
       "2           3  sub-S06113  ses-E11062  mod-rx   \n",
       "3           4  sub-S06116  ses-E11066  mod-rx   \n",
       "4           5  sub-S06145  ses-E11104  mod-rx   \n",
       "\n",
       "                                                File Type Position_Manual  \\\n",
       "0  bimcv_covidN_db/processed/sub-S06039_ses-E1094...   cr              PA   \n",
       "1  bimcv_covidN_db/processed/sub-S06110_ses-E1105...   dx              PA   \n",
       "2  bimcv_covidN_db/processed/sub-S06113_ses-E1106...   dx              PA   \n",
       "3  bimcv_covidN_db/processed/sub-S06116_ses-E1106...   cr              PA   \n",
       "4  bimcv_covidN_db/processed/sub-S06145_ses-E1110...   dx              PA   \n",
       "\n",
       "   Exclude  Exclude Reason                                             Labels  \\\n",
       "0    False             NaN                                          unchanged   \n",
       "1    False             NaN                                        infiltrates   \n",
       "2    False             NaN  '\\t 'heart insufficiency'\\t ' interstitial pat...   \n",
       "3    False             NaN  suboptimal study'\\t 'fibrotic band'\\t 'COPD si...   \n",
       "4    False             NaN                               interstitial pattern   \n",
       "\n",
       "   ... Detector Type                  Imager Pixel Spacing Exposure Index  \\\n",
       "0  ...           NaN                          0.143, 0.143            NaN   \n",
       "1  ...  SCINTILLATOR                          0.175, 0.175      67.560167   \n",
       "2  ...           NaN  0.138999998569489, 0.138999998569489            NaN   \n",
       "3  ...           NaN                              0.1, 0.1            NaN   \n",
       "4  ...  SCINTILLATOR                    0.194553, 0.194553            NaN   \n",
       "\n",
       "  Filter Thickness Maximum Performed Procedure Step Start Time Bits Stored  \\\n",
       "0                      NaN                          182705.234        12.0   \n",
       "1                      NaN                          212816.000        12.0   \n",
       "2                      NaN                                 NaN        16.0   \n",
       "3                      NaN                                 NaN        12.0   \n",
       "4                      NaN                          115109.000        14.0   \n",
       "\n",
       "                                  Study Instance UID  \\\n",
       "0  1.2.840.113654.2.70.1.107288151586885502570645...   \n",
       "1  1.2.840.113654.2.70.1.216859291845841333754195...   \n",
       "2  1.2.840.113654.2.70.1.177717506051411834280838...   \n",
       "3  1.2.840.113654.2.70.1.287550085791502471302689...   \n",
       "4  1.2.840.113654.2.70.1.227917490972241029816891...   \n",
       "\n",
       "           Patient Gantry Relationship Code Sequence valid      Class  \n",
       "0                                                NaN     0     normal  \n",
       "1                                                NaN     0  pneumonia  \n",
       "2                                                NaN     0  pneumonia  \n",
       "3                                                NaN     0  pneumonia  \n",
       "4  {'00080100': {'Value': F-10470, 'vr': 'SH'}, '...     0  pneumonia  \n",
       "\n",
       "[5 rows x 264 columns]"
      ]
     },
     "execution_count": 9,
     "metadata": {},
     "output_type": "execute_result"
    }
   ],
   "source": [
    "print(\"Pneumonia:\",sum(dfTrain_bim[\"Class\"]=='pneumonia'))\n",
    "print(\"Normals : \",sum(dfTrain_bim[\"Class\"]=='normal'))\n",
    "\n",
    "\n",
    "print('Normal train '+str(len (dfTrain_bim)))\n",
    "dfTrain_bim.head()"
   ]
  },
  {
   "cell_type": "code",
   "execution_count": 10,
   "metadata": {},
   "outputs": [
    {
     "name": "stdout",
     "output_type": "stream",
     "text": [
      "TOTAL Train Pneumonia: 10213\n",
      "TOTAL Train Normals :  15064\n",
      "TOTAL Normal train 25277\n"
     ]
    },
    {
     "data": {
      "text/html": [
       "<div>\n",
       "<style scoped>\n",
       "    .dataframe tbody tr th:only-of-type {\n",
       "        vertical-align: middle;\n",
       "    }\n",
       "\n",
       "    .dataframe tbody tr th {\n",
       "        vertical-align: top;\n",
       "    }\n",
       "\n",
       "    .dataframe thead th {\n",
       "        text-align: right;\n",
       "    }\n",
       "</style>\n",
       "<table border=\"1\" class=\"dataframe\">\n",
       "  <thead>\n",
       "    <tr style=\"text-align: right;\">\n",
       "      <th></th>\n",
       "      <th>File</th>\n",
       "      <th>Class</th>\n",
       "      <th>valid</th>\n",
       "    </tr>\n",
       "  </thead>\n",
       "  <tbody>\n",
       "    <tr>\n",
       "      <th>0</th>\n",
       "      <td>train_RSNA/processed/003d8fa0-6bf1-40ed-b54c-a...</td>\n",
       "      <td>normal</td>\n",
       "      <td>0</td>\n",
       "    </tr>\n",
       "    <tr>\n",
       "      <th>1</th>\n",
       "      <td>train_RSNA/processed/009eb222-eabc-4150-8121-d...</td>\n",
       "      <td>normal</td>\n",
       "      <td>0</td>\n",
       "    </tr>\n",
       "    <tr>\n",
       "      <th>2</th>\n",
       "      <td>train_RSNA/processed/01027bc3-dc40-4165-a6c3-d...</td>\n",
       "      <td>normal</td>\n",
       "      <td>0</td>\n",
       "    </tr>\n",
       "    <tr>\n",
       "      <th>3</th>\n",
       "      <td>train_RSNA/processed/017c7b5b-618e-4bc9-943c-0...</td>\n",
       "      <td>normal</td>\n",
       "      <td>0</td>\n",
       "    </tr>\n",
       "    <tr>\n",
       "      <th>4</th>\n",
       "      <td>train_RSNA/processed/019ca122-9cdf-4704-b7a9-4...</td>\n",
       "      <td>normal</td>\n",
       "      <td>0</td>\n",
       "    </tr>\n",
       "  </tbody>\n",
       "</table>\n",
       "</div>"
      ],
      "text/plain": [
       "                                                File   Class  valid\n",
       "0  train_RSNA/processed/003d8fa0-6bf1-40ed-b54c-a...  normal      0\n",
       "1  train_RSNA/processed/009eb222-eabc-4150-8121-d...  normal      0\n",
       "2  train_RSNA/processed/01027bc3-dc40-4165-a6c3-d...  normal      0\n",
       "3  train_RSNA/processed/017c7b5b-618e-4bc9-943c-0...  normal      0\n",
       "4  train_RSNA/processed/019ca122-9cdf-4704-b7a9-4...  normal      0"
      ]
     },
     "execution_count": 10,
     "metadata": {},
     "output_type": "execute_result"
    }
   ],
   "source": [
    "dfTrain_bim = dfTrain_bim[['File', 'Class', 'valid']]\n",
    "dfTrain = dfTrain.append(dfTrain_bim)\n",
    "\n",
    "print(\"TOTAL Train Pneumonia:\",sum(dfTrain[\"Class\"]=='pneumonia'))\n",
    "print(\"TOTAL Train Normals : \",sum(dfTrain[\"Class\"]=='normal'))\n",
    "\n",
    "\n",
    "print('TOTAL Normal train '+str(len (dfTrain)))\n",
    "dfTrain.head()\n"
   ]
  },
  {
   "cell_type": "markdown",
   "metadata": {},
   "source": [
    "### Load COVID for training from hmhospitales"
   ]
  },
  {
   "cell_type": "code",
   "execution_count": 11,
   "metadata": {},
   "outputs": [
    {
     "name": "stdout",
     "output_type": "stream",
     "text": [
      "HMH:  2030\n",
      "Splitv3:  271\n"
     ]
    }
   ],
   "source": [
    "dfTrainCovid = pd.read_csv(path+'hmhospitales/train_hmh_processed.csv', header=None)\n",
    "dfTrainCovid['valid'] = 0\n",
    "dfTrainCovid[0] = 'hmhospitales/train/processed/' + dfTrainCovid[0].astype(str)\n",
    "print(\"HMH: \", len (dfTrainCovid))\n",
    "\n",
    "dfTrainv3 = pd.read_csv(path+'train_split_v3.csv', header=None)\n",
    "dfTrainv3['valid'] = 0\n",
    "dfTrainv3[0] = 'train/processed/' + dfTrainv3[0].astype(str)\n",
    "dfTrainv3 = dfTrainv3.loc[dfTrainv3[1] == 'COVID-19']\n",
    "# # augment de training covid data 2^3\n",
    "# for i in range(2):\n",
    "#     dfTrainv3 = dfTrainv3.append(dfTrainv3)\n",
    "print(\"Splitv3: \", len (dfTrainv3))\n",
    "    \n",
    "dfTrainCovid = dfTrainCovid.append(dfTrainv3)\n",
    "\n",
    "\n",
    "# # salutms_xnat (217 cases) . Using salut cases!?\n",
    "# df_salut = pd.read_csv(path+'salutms_xnat/salutms_xnat2.csv',header=None)\n",
    "# df_salut[0] = 'salutms_xnat/img/processed/' + df_salut[0].astype(str)\n",
    "# df_salut.loc[df_salut[1] == ('Cardiopatia') , 1] = 'normal'\n",
    "# df_salut.loc[df_salut[1] == ('Fractura') , 1] = 'normal'\n",
    "# df_salut = df_salut.drop(2, 1)\n",
    "# df_train_salut, df_test_salut = train_test_split(df_salut, test_size=0.5)\n",
    "# # augment de training covid data 2^3\n",
    "# for i in range(3):\n",
    "#     df_train_salut = df_train_salut.append(df_train_salut)\n",
    "# print(\"Salutms: \", len (df_train_salut))\n",
    "# dfTrainCovid = dfTrainCovid.append(df_train_salut)\n",
    "\n",
    "dfTrainCovid.rename(columns={1: \"Class\"},  inplace=True)\n",
    "dfTrainCovid.rename(columns={0: \"File\"},  inplace=True)"
   ]
  },
  {
   "cell_type": "markdown",
   "metadata": {},
   "source": [
    "### Load COVID  BIMCV COVID Pos."
   ]
  },
  {
   "cell_type": "code",
   "execution_count": 12,
   "metadata": {},
   "outputs": [
    {
     "name": "stderr",
     "output_type": "stream",
     "text": [
      "/home/robert/.local/lib/python3.6/site-packages/IPython/core/interactiveshell.py:3063: DtypeWarning: Columns (20,24,43,136,178,257) have mixed types.Specify dtype option on import or set low_memory=False.\n",
      "  interactivity=interactivity, compiler=compiler, result=result)\n"
     ]
    }
   ],
   "source": [
    "dfTrain_bimp = pd.read_csv(path+'bimcv_covidP_db/bimcv_pos_train_proc.csv', header=0)\n",
    "dfTrain_bimp['valid'] = 0\n",
    "dfTrain_bimp['File'] = 'bimcv_covidP_db/processed/' + dfTrain_bimp['File'].astype(str)+'_8b.png'\n",
    "dfTrain_bimp['Class']  = \"COVID-19\"\n",
    "# dfTrain_bimp = dfTrain_bimp.replace(np.nan, '', regex=True)\n"
   ]
  },
  {
   "cell_type": "code",
   "execution_count": 13,
   "metadata": {},
   "outputs": [],
   "source": [
    "# multi-label? \n",
    "# df_salut.loc[df_salut[1] == ('Fractura') , 1] = 'normal'\n",
    "# dfTrain_bim = dfTrain_bim.replace(np.nan, '', regex=True)\n",
    "# dfTrain_bim.loc[dfTrain_bim['Labels'].str.contains(pneumo_labels),\"Class\"] = \"pneumonia\"\n"
   ]
  },
  {
   "cell_type": "code",
   "execution_count": 14,
   "metadata": {},
   "outputs": [
    {
     "name": "stdout",
     "output_type": "stream",
     "text": [
      "8102\n",
      "8102\n"
     ]
    },
    {
     "data": {
      "text/html": [
       "<div>\n",
       "<style scoped>\n",
       "    .dataframe tbody tr th:only-of-type {\n",
       "        vertical-align: middle;\n",
       "    }\n",
       "\n",
       "    .dataframe tbody tr th {\n",
       "        vertical-align: top;\n",
       "    }\n",
       "\n",
       "    .dataframe thead th {\n",
       "        text-align: right;\n",
       "    }\n",
       "</style>\n",
       "<table border=\"1\" class=\"dataframe\">\n",
       "  <thead>\n",
       "    <tr style=\"text-align: right;\">\n",
       "      <th></th>\n",
       "      <th>File</th>\n",
       "      <th>Class</th>\n",
       "      <th>valid</th>\n",
       "    </tr>\n",
       "  </thead>\n",
       "  <tbody>\n",
       "    <tr>\n",
       "      <th>0</th>\n",
       "      <td>bimcv_covidP_db/processed/sub-S10212_ses-E1935...</td>\n",
       "      <td>COVID-19</td>\n",
       "      <td>0</td>\n",
       "    </tr>\n",
       "    <tr>\n",
       "      <th>1</th>\n",
       "      <td>bimcv_covidP_db/processed/sub-S12131_ses-E2391...</td>\n",
       "      <td>COVID-19</td>\n",
       "      <td>0</td>\n",
       "    </tr>\n",
       "    <tr>\n",
       "      <th>2</th>\n",
       "      <td>bimcv_covidP_db/processed/sub-S12131_ses-E2436...</td>\n",
       "      <td>COVID-19</td>\n",
       "      <td>0</td>\n",
       "    </tr>\n",
       "    <tr>\n",
       "      <th>3</th>\n",
       "      <td>bimcv_covidP_db/processed/sub-S03059_ses-E2280...</td>\n",
       "      <td>COVID-19</td>\n",
       "      <td>0</td>\n",
       "    </tr>\n",
       "    <tr>\n",
       "      <th>4</th>\n",
       "      <td>bimcv_covidP_db/processed/sub-S10901_ses-E1897...</td>\n",
       "      <td>COVID-19</td>\n",
       "      <td>0</td>\n",
       "    </tr>\n",
       "  </tbody>\n",
       "</table>\n",
       "</div>"
      ],
      "text/plain": [
       "                                                File     Class  valid\n",
       "0  bimcv_covidP_db/processed/sub-S10212_ses-E1935...  COVID-19      0\n",
       "1  bimcv_covidP_db/processed/sub-S12131_ses-E2391...  COVID-19      0\n",
       "2  bimcv_covidP_db/processed/sub-S12131_ses-E2436...  COVID-19      0\n",
       "3  bimcv_covidP_db/processed/sub-S03059_ses-E2280...  COVID-19      0\n",
       "4  bimcv_covidP_db/processed/sub-S10901_ses-E1897...  COVID-19      0"
      ]
     },
     "execution_count": 14,
     "metadata": {},
     "output_type": "execute_result"
    }
   ],
   "source": [
    "dfTrain_bimp = dfTrain_bimp[['File', 'Class', 'valid']]\n",
    "print(sum(dfTrain_bimp[\"Class\"]=='COVID-19'))\n",
    "print(len(dfTrain_bimp))\n",
    "dfTrain_bimp.head()"
   ]
  },
  {
   "cell_type": "code",
   "execution_count": 15,
   "metadata": {},
   "outputs": [],
   "source": [
    "dfTrainCovid=dfTrainCovid.append(dfTrain_bimp)"
   ]
  },
  {
   "cell_type": "code",
   "execution_count": 16,
   "metadata": {},
   "outputs": [
    {
     "name": "stdout",
     "output_type": "stream",
     "text": [
      "Total COVID  10403\n"
     ]
    },
    {
     "data": {
      "text/html": [
       "<div>\n",
       "<style scoped>\n",
       "    .dataframe tbody tr th:only-of-type {\n",
       "        vertical-align: middle;\n",
       "    }\n",
       "\n",
       "    .dataframe tbody tr th {\n",
       "        vertical-align: top;\n",
       "    }\n",
       "\n",
       "    .dataframe thead th {\n",
       "        text-align: right;\n",
       "    }\n",
       "</style>\n",
       "<table border=\"1\" class=\"dataframe\">\n",
       "  <thead>\n",
       "    <tr style=\"text-align: right;\">\n",
       "      <th></th>\n",
       "      <th>File</th>\n",
       "      <th>Class</th>\n",
       "      <th>valid</th>\n",
       "    </tr>\n",
       "  </thead>\n",
       "  <tbody>\n",
       "    <tr>\n",
       "      <th>0</th>\n",
       "      <td>hmhospitales/train/processed/1.2.124.113532.12...</td>\n",
       "      <td>COVID-19</td>\n",
       "      <td>0</td>\n",
       "    </tr>\n",
       "    <tr>\n",
       "      <th>1</th>\n",
       "      <td>hmhospitales/train/processed/1.2.124.113532.12...</td>\n",
       "      <td>COVID-19</td>\n",
       "      <td>0</td>\n",
       "    </tr>\n",
       "    <tr>\n",
       "      <th>2</th>\n",
       "      <td>hmhospitales/train/processed/1.2.124.113532.14...</td>\n",
       "      <td>COVID-19</td>\n",
       "      <td>0</td>\n",
       "    </tr>\n",
       "    <tr>\n",
       "      <th>3</th>\n",
       "      <td>hmhospitales/train/processed/1.2.124.113532.14...</td>\n",
       "      <td>COVID-19</td>\n",
       "      <td>0</td>\n",
       "    </tr>\n",
       "    <tr>\n",
       "      <th>4</th>\n",
       "      <td>hmhospitales/train/processed/1.2.124.113532.15...</td>\n",
       "      <td>COVID-19</td>\n",
       "      <td>0</td>\n",
       "    </tr>\n",
       "  </tbody>\n",
       "</table>\n",
       "</div>"
      ],
      "text/plain": [
       "                                                File     Class  valid\n",
       "0  hmhospitales/train/processed/1.2.124.113532.12...  COVID-19      0\n",
       "1  hmhospitales/train/processed/1.2.124.113532.12...  COVID-19      0\n",
       "2  hmhospitales/train/processed/1.2.124.113532.14...  COVID-19      0\n",
       "3  hmhospitales/train/processed/1.2.124.113532.14...  COVID-19      0\n",
       "4  hmhospitales/train/processed/1.2.124.113532.15...  COVID-19      0"
      ]
     },
     "execution_count": 16,
     "metadata": {},
     "output_type": "execute_result"
    }
   ],
   "source": [
    "print(\"Total COVID \", len (dfTrainCovid))\n",
    "\n",
    "dfTrainCovid.head()"
   ]
  },
  {
   "cell_type": "markdown",
   "metadata": {},
   "source": [
    "## Join Normals, pneumonia and COVIDs for training\n"
   ]
  },
  {
   "cell_type": "code",
   "execution_count": 17,
   "metadata": {},
   "outputs": [
    {
     "name": "stdout",
     "output_type": "stream",
     "text": [
      "Total Train 35680\n"
     ]
    },
    {
     "data": {
      "text/html": [
       "<div>\n",
       "<style scoped>\n",
       "    .dataframe tbody tr th:only-of-type {\n",
       "        vertical-align: middle;\n",
       "    }\n",
       "\n",
       "    .dataframe tbody tr th {\n",
       "        vertical-align: top;\n",
       "    }\n",
       "\n",
       "    .dataframe thead th {\n",
       "        text-align: right;\n",
       "    }\n",
       "</style>\n",
       "<table border=\"1\" class=\"dataframe\">\n",
       "  <thead>\n",
       "    <tr style=\"text-align: right;\">\n",
       "      <th></th>\n",
       "      <th>File</th>\n",
       "      <th>Class</th>\n",
       "      <th>valid</th>\n",
       "    </tr>\n",
       "  </thead>\n",
       "  <tbody>\n",
       "    <tr>\n",
       "      <th>0</th>\n",
       "      <td>train_RSNA/processed/003d8fa0-6bf1-40ed-b54c-a...</td>\n",
       "      <td>normal</td>\n",
       "      <td>0</td>\n",
       "    </tr>\n",
       "    <tr>\n",
       "      <th>1</th>\n",
       "      <td>train_RSNA/processed/009eb222-eabc-4150-8121-d...</td>\n",
       "      <td>normal</td>\n",
       "      <td>0</td>\n",
       "    </tr>\n",
       "    <tr>\n",
       "      <th>2</th>\n",
       "      <td>train_RSNA/processed/01027bc3-dc40-4165-a6c3-d...</td>\n",
       "      <td>normal</td>\n",
       "      <td>0</td>\n",
       "    </tr>\n",
       "    <tr>\n",
       "      <th>3</th>\n",
       "      <td>train_RSNA/processed/017c7b5b-618e-4bc9-943c-0...</td>\n",
       "      <td>normal</td>\n",
       "      <td>0</td>\n",
       "    </tr>\n",
       "    <tr>\n",
       "      <th>4</th>\n",
       "      <td>train_RSNA/processed/019ca122-9cdf-4704-b7a9-4...</td>\n",
       "      <td>normal</td>\n",
       "      <td>0</td>\n",
       "    </tr>\n",
       "  </tbody>\n",
       "</table>\n",
       "</div>"
      ],
      "text/plain": [
       "                                                File   Class  valid\n",
       "0  train_RSNA/processed/003d8fa0-6bf1-40ed-b54c-a...  normal      0\n",
       "1  train_RSNA/processed/009eb222-eabc-4150-8121-d...  normal      0\n",
       "2  train_RSNA/processed/01027bc3-dc40-4165-a6c3-d...  normal      0\n",
       "3  train_RSNA/processed/017c7b5b-618e-4bc9-943c-0...  normal      0\n",
       "4  train_RSNA/processed/019ca122-9cdf-4704-b7a9-4...  normal      0"
      ]
     },
     "execution_count": 17,
     "metadata": {},
     "output_type": "execute_result"
    }
   ],
   "source": [
    "dfTrain = dfTrain.append(dfTrainCovid)\n",
    "print('Total Train',len (dfTrain))\n",
    "dfTrain.head()"
   ]
  },
  {
   "cell_type": "markdown",
   "metadata": {},
   "source": [
    "### Validation data from RSNA & HMH"
   ]
  },
  {
   "cell_type": "code",
   "execution_count": 18,
   "metadata": {},
   "outputs": [
    {
     "name": "stdout",
     "output_type": "stream",
     "text": [
      "Test Pneumonia: 481\n",
      "Test Normals :  433\n",
      "Test BIMCV N 914\n"
     ]
    },
    {
     "data": {
      "text/html": [
       "<div>\n",
       "<style scoped>\n",
       "    .dataframe tbody tr th:only-of-type {\n",
       "        vertical-align: middle;\n",
       "    }\n",
       "\n",
       "    .dataframe tbody tr th {\n",
       "        vertical-align: top;\n",
       "    }\n",
       "\n",
       "    .dataframe thead th {\n",
       "        text-align: right;\n",
       "    }\n",
       "</style>\n",
       "<table border=\"1\" class=\"dataframe\">\n",
       "  <thead>\n",
       "    <tr style=\"text-align: right;\">\n",
       "      <th></th>\n",
       "      <th>File</th>\n",
       "      <th>Class</th>\n",
       "      <th>valid</th>\n",
       "    </tr>\n",
       "  </thead>\n",
       "  <tbody>\n",
       "    <tr>\n",
       "      <th>0</th>\n",
       "      <td>bimcv_covidN_db/processed/sub-S06150_ses-E1266...</td>\n",
       "      <td>normal</td>\n",
       "      <td>1</td>\n",
       "    </tr>\n",
       "    <tr>\n",
       "      <th>1</th>\n",
       "      <td>bimcv_covidN_db/processed/sub-S06583_ses-E1226...</td>\n",
       "      <td>pneumonia</td>\n",
       "      <td>1</td>\n",
       "    </tr>\n",
       "    <tr>\n",
       "      <th>2</th>\n",
       "      <td>bimcv_covidN_db/processed/sub-S06591_ses-E1176...</td>\n",
       "      <td>normal</td>\n",
       "      <td>1</td>\n",
       "    </tr>\n",
       "    <tr>\n",
       "      <th>3</th>\n",
       "      <td>bimcv_covidN_db/processed/sub-S06728_ses-E1198...</td>\n",
       "      <td>normal</td>\n",
       "      <td>1</td>\n",
       "    </tr>\n",
       "    <tr>\n",
       "      <th>4</th>\n",
       "      <td>bimcv_covidN_db/processed/sub-S06969_ses-E1238...</td>\n",
       "      <td>pneumonia</td>\n",
       "      <td>1</td>\n",
       "    </tr>\n",
       "  </tbody>\n",
       "</table>\n",
       "</div>"
      ],
      "text/plain": [
       "                                                File      Class  valid\n",
       "0  bimcv_covidN_db/processed/sub-S06150_ses-E1266...     normal      1\n",
       "1  bimcv_covidN_db/processed/sub-S06583_ses-E1226...  pneumonia      1\n",
       "2  bimcv_covidN_db/processed/sub-S06591_ses-E1176...     normal      1\n",
       "3  bimcv_covidN_db/processed/sub-S06728_ses-E1198...     normal      1\n",
       "4  bimcv_covidN_db/processed/sub-S06969_ses-E1238...  pneumonia      1"
      ]
     },
     "execution_count": 18,
     "metadata": {},
     "output_type": "execute_result"
    }
   ],
   "source": [
    "dfTest = pd.read_csv(path+'bimcv_covidN_db/bimcv_neg_test_proc.csv', header=0)\n",
    "dfTest['valid'] = 1\n",
    "dfTest['File'] = 'bimcv_covidN_db/processed/' + dfTest['File'].astype(str)+'_8b.png'\n",
    "dfTest['Class']  = \"normal\"\n",
    "dfTest = dfTest.replace(np.nan, '', regex=True)\n",
    "dfTest.loc[dfTest['Labels'].str.contains(pneumo_labels),\"Class\"] = \"pneumonia\"\n",
    "\n",
    "dfTest = dfTest[['File', 'Class', 'valid']]\n",
    "dfTest.head()\n",
    "\n",
    "\n",
    "\n",
    "\n",
    "print(\"Test Pneumonia:\",sum(dfTest[\"Class\"]=='pneumonia'))\n",
    "print(\"Test Normals : \",sum(dfTest[\"Class\"]=='normal'))\n",
    "\n",
    "print('Test BIMCV N',len (dfTest))\n",
    "dfTest.head()"
   ]
  },
  {
   "cell_type": "markdown",
   "metadata": {},
   "source": [
    "Load bimcv positive"
   ]
  },
  {
   "cell_type": "code",
   "execution_count": 19,
   "metadata": {},
   "outputs": [
    {
     "name": "stdout",
     "output_type": "stream",
     "text": [
      "Test BIMCV P 2039\n"
     ]
    },
    {
     "data": {
      "text/html": [
       "<div>\n",
       "<style scoped>\n",
       "    .dataframe tbody tr th:only-of-type {\n",
       "        vertical-align: middle;\n",
       "    }\n",
       "\n",
       "    .dataframe tbody tr th {\n",
       "        vertical-align: top;\n",
       "    }\n",
       "\n",
       "    .dataframe thead th {\n",
       "        text-align: right;\n",
       "    }\n",
       "</style>\n",
       "<table border=\"1\" class=\"dataframe\">\n",
       "  <thead>\n",
       "    <tr style=\"text-align: right;\">\n",
       "      <th></th>\n",
       "      <th>File</th>\n",
       "      <th>Class</th>\n",
       "      <th>valid</th>\n",
       "    </tr>\n",
       "  </thead>\n",
       "  <tbody>\n",
       "    <tr>\n",
       "      <th>0</th>\n",
       "      <td>bimcv_covidP_db/processed/sub-S12140_ses-E2395...</td>\n",
       "      <td>COVID-19</td>\n",
       "      <td>1</td>\n",
       "    </tr>\n",
       "    <tr>\n",
       "      <th>1</th>\n",
       "      <td>bimcv_covidP_db/processed/sub-S10997_ses-E2387...</td>\n",
       "      <td>COVID-19</td>\n",
       "      <td>1</td>\n",
       "    </tr>\n",
       "    <tr>\n",
       "      <th>2</th>\n",
       "      <td>bimcv_covidP_db/processed/sub-S10997_ses-E1925...</td>\n",
       "      <td>COVID-19</td>\n",
       "      <td>1</td>\n",
       "    </tr>\n",
       "    <tr>\n",
       "      <th>3</th>\n",
       "      <td>bimcv_covidP_db/processed/sub-S10997_ses-E2590...</td>\n",
       "      <td>COVID-19</td>\n",
       "      <td>1</td>\n",
       "    </tr>\n",
       "    <tr>\n",
       "      <th>4</th>\n",
       "      <td>bimcv_covidP_db/processed/sub-S09666_ses-E1656...</td>\n",
       "      <td>COVID-19</td>\n",
       "      <td>1</td>\n",
       "    </tr>\n",
       "  </tbody>\n",
       "</table>\n",
       "</div>"
      ],
      "text/plain": [
       "                                                File     Class  valid\n",
       "0  bimcv_covidP_db/processed/sub-S12140_ses-E2395...  COVID-19      1\n",
       "1  bimcv_covidP_db/processed/sub-S10997_ses-E2387...  COVID-19      1\n",
       "2  bimcv_covidP_db/processed/sub-S10997_ses-E1925...  COVID-19      1\n",
       "3  bimcv_covidP_db/processed/sub-S10997_ses-E2590...  COVID-19      1\n",
       "4  bimcv_covidP_db/processed/sub-S09666_ses-E1656...  COVID-19      1"
      ]
     },
     "execution_count": 19,
     "metadata": {},
     "output_type": "execute_result"
    }
   ],
   "source": [
    "dfTestP = pd.read_csv(path+'bimcv_covidP_db/bimcv_pos_test_proc.csv', header=0)\n",
    "dfTestP['valid'] = 1\n",
    "dfTestP['File'] = 'bimcv_covidP_db/processed/' + dfTestP['File'].astype(str)+'_8b.png'\n",
    "dfTestP['Class']  = \"COVID-19\"\n",
    "dfTestP = dfTestP.replace(np.nan, '', regex=True)\n",
    "# dfTest.loc[dfTest['Labels'].str.contains(pneumo_labels),\"Class\"] = \"pneumonia\"\n",
    "\n",
    "dfTestP = dfTestP[['File', 'Class', 'valid']]\n",
    "dfTestP.head()\n",
    "\n",
    "\n",
    "print('Test BIMCV P',len (dfTestP))\n",
    "dfTestP.head()"
   ]
  },
  {
   "cell_type": "code",
   "execution_count": 20,
   "metadata": {},
   "outputs": [
    {
     "name": "stdout",
     "output_type": "stream",
     "text": [
      "Test HMH  534\n"
     ]
    },
    {
     "data": {
      "text/html": [
       "<div>\n",
       "<style scoped>\n",
       "    .dataframe tbody tr th:only-of-type {\n",
       "        vertical-align: middle;\n",
       "    }\n",
       "\n",
       "    .dataframe tbody tr th {\n",
       "        vertical-align: top;\n",
       "    }\n",
       "\n",
       "    .dataframe thead th {\n",
       "        text-align: right;\n",
       "    }\n",
       "</style>\n",
       "<table border=\"1\" class=\"dataframe\">\n",
       "  <thead>\n",
       "    <tr style=\"text-align: right;\">\n",
       "      <th></th>\n",
       "      <th>0</th>\n",
       "      <th>1</th>\n",
       "      <th>valid</th>\n",
       "    </tr>\n",
       "  </thead>\n",
       "  <tbody>\n",
       "    <tr>\n",
       "      <th>0</th>\n",
       "      <td>hmhospitales/test/processed/1.2.124.113532.161...</td>\n",
       "      <td>COVID-19</td>\n",
       "      <td>1</td>\n",
       "    </tr>\n",
       "    <tr>\n",
       "      <th>1</th>\n",
       "      <td>hmhospitales/test/processed/1.2.124.113532.172...</td>\n",
       "      <td>COVID-19</td>\n",
       "      <td>1</td>\n",
       "    </tr>\n",
       "    <tr>\n",
       "      <th>2</th>\n",
       "      <td>hmhospitales/test/processed/1.2.124.113532.229...</td>\n",
       "      <td>COVID-19</td>\n",
       "      <td>1</td>\n",
       "    </tr>\n",
       "    <tr>\n",
       "      <th>3</th>\n",
       "      <td>hmhospitales/test/processed/1.2.840.113619.2.2...</td>\n",
       "      <td>COVID-19</td>\n",
       "      <td>1</td>\n",
       "    </tr>\n",
       "    <tr>\n",
       "      <th>4</th>\n",
       "      <td>hmhospitales/test/processed/1.2.840.113619.2.2...</td>\n",
       "      <td>COVID-19</td>\n",
       "      <td>1</td>\n",
       "    </tr>\n",
       "  </tbody>\n",
       "</table>\n",
       "</div>"
      ],
      "text/plain": [
       "                                                   0         1  valid\n",
       "0  hmhospitales/test/processed/1.2.124.113532.161...  COVID-19      1\n",
       "1  hmhospitales/test/processed/1.2.124.113532.172...  COVID-19      1\n",
       "2  hmhospitales/test/processed/1.2.124.113532.229...  COVID-19      1\n",
       "3  hmhospitales/test/processed/1.2.840.113619.2.2...  COVID-19      1\n",
       "4  hmhospitales/test/processed/1.2.840.113619.2.2...  COVID-19      1"
      ]
     },
     "execution_count": 20,
     "metadata": {},
     "output_type": "execute_result"
    }
   ],
   "source": [
    "dfTestCovid = pd.read_csv(path+'hmhospitales/test_hmh_processed.csv',header=None)\n",
    "dfTestCovid['valid'] = 1\n",
    "dfTestCovid[0] = 'hmhospitales/test/processed/' + dfTestCovid[0].astype(str)\n",
    "print('Test HMH ',len (dfTestCovid))\n",
    "\n",
    "dfTestCovid.head()"
   ]
  },
  {
   "cell_type": "code",
   "execution_count": 21,
   "metadata": {},
   "outputs": [
    {
     "data": {
      "text/html": [
       "<div>\n",
       "<style scoped>\n",
       "    .dataframe tbody tr th:only-of-type {\n",
       "        vertical-align: middle;\n",
       "    }\n",
       "\n",
       "    .dataframe tbody tr th {\n",
       "        vertical-align: top;\n",
       "    }\n",
       "\n",
       "    .dataframe thead th {\n",
       "        text-align: right;\n",
       "    }\n",
       "</style>\n",
       "<table border=\"1\" class=\"dataframe\">\n",
       "  <thead>\n",
       "    <tr style=\"text-align: right;\">\n",
       "      <th></th>\n",
       "      <th>File</th>\n",
       "      <th>Class</th>\n",
       "      <th>valid</th>\n",
       "    </tr>\n",
       "  </thead>\n",
       "  <tbody>\n",
       "    <tr>\n",
       "      <th>0</th>\n",
       "      <td>hmhospitales/test/processed/1.2.124.113532.161...</td>\n",
       "      <td>COVID-19</td>\n",
       "      <td>1</td>\n",
       "    </tr>\n",
       "    <tr>\n",
       "      <th>1</th>\n",
       "      <td>hmhospitales/test/processed/1.2.124.113532.172...</td>\n",
       "      <td>COVID-19</td>\n",
       "      <td>1</td>\n",
       "    </tr>\n",
       "    <tr>\n",
       "      <th>2</th>\n",
       "      <td>hmhospitales/test/processed/1.2.124.113532.229...</td>\n",
       "      <td>COVID-19</td>\n",
       "      <td>1</td>\n",
       "    </tr>\n",
       "    <tr>\n",
       "      <th>3</th>\n",
       "      <td>hmhospitales/test/processed/1.2.840.113619.2.2...</td>\n",
       "      <td>COVID-19</td>\n",
       "      <td>1</td>\n",
       "    </tr>\n",
       "    <tr>\n",
       "      <th>4</th>\n",
       "      <td>hmhospitales/test/processed/1.2.840.113619.2.2...</td>\n",
       "      <td>COVID-19</td>\n",
       "      <td>1</td>\n",
       "    </tr>\n",
       "  </tbody>\n",
       "</table>\n",
       "</div>"
      ],
      "text/plain": [
       "                                                File     Class  valid\n",
       "0  hmhospitales/test/processed/1.2.124.113532.161...  COVID-19      1\n",
       "1  hmhospitales/test/processed/1.2.124.113532.172...  COVID-19      1\n",
       "2  hmhospitales/test/processed/1.2.124.113532.229...  COVID-19      1\n",
       "3  hmhospitales/test/processed/1.2.840.113619.2.2...  COVID-19      1\n",
       "4  hmhospitales/test/processed/1.2.840.113619.2.2...  COVID-19      1"
      ]
     },
     "execution_count": 21,
     "metadata": {},
     "output_type": "execute_result"
    }
   ],
   "source": [
    "dfTestCovid.rename(columns={1: \"Class\"},  inplace=True)\n",
    "dfTestCovid.rename(columns={0: \"File\"},  inplace=True)\n",
    "dfTestCovid.head()"
   ]
  },
  {
   "cell_type": "markdown",
   "metadata": {},
   "source": [
    "Adding all tests"
   ]
  },
  {
   "cell_type": "code",
   "execution_count": 22,
   "metadata": {},
   "outputs": [
    {
     "name": "stdout",
     "output_type": "stream",
     "text": [
      "Total Test 3487\n"
     ]
    }
   ],
   "source": [
    "dfTest= dfTest.append(dfTestP)\n",
    "dfTest= dfTest.append(dfTestCovid)\n",
    "\n",
    "print('Total Test',len (dfTest))"
   ]
  },
  {
   "cell_type": "code",
   "execution_count": 23,
   "metadata": {
    "scrolled": true
   },
   "outputs": [
    {
     "name": "stdout",
     "output_type": "stream",
     "text": [
      "39167\n"
     ]
    },
    {
     "data": {
      "text/html": [
       "<div>\n",
       "<style scoped>\n",
       "    .dataframe tbody tr th:only-of-type {\n",
       "        vertical-align: middle;\n",
       "    }\n",
       "\n",
       "    .dataframe tbody tr th {\n",
       "        vertical-align: top;\n",
       "    }\n",
       "\n",
       "    .dataframe thead th {\n",
       "        text-align: right;\n",
       "    }\n",
       "</style>\n",
       "<table border=\"1\" class=\"dataframe\">\n",
       "  <thead>\n",
       "    <tr style=\"text-align: right;\">\n",
       "      <th></th>\n",
       "      <th>File</th>\n",
       "      <th>Class</th>\n",
       "      <th>valid</th>\n",
       "    </tr>\n",
       "  </thead>\n",
       "  <tbody>\n",
       "    <tr>\n",
       "      <th>0</th>\n",
       "      <td>train_RSNA/processed/003d8fa0-6bf1-40ed-b54c-a...</td>\n",
       "      <td>normal</td>\n",
       "      <td>0</td>\n",
       "    </tr>\n",
       "    <tr>\n",
       "      <th>1</th>\n",
       "      <td>train_RSNA/processed/009eb222-eabc-4150-8121-d...</td>\n",
       "      <td>normal</td>\n",
       "      <td>0</td>\n",
       "    </tr>\n",
       "    <tr>\n",
       "      <th>2</th>\n",
       "      <td>train_RSNA/processed/01027bc3-dc40-4165-a6c3-d...</td>\n",
       "      <td>normal</td>\n",
       "      <td>0</td>\n",
       "    </tr>\n",
       "    <tr>\n",
       "      <th>3</th>\n",
       "      <td>train_RSNA/processed/017c7b5b-618e-4bc9-943c-0...</td>\n",
       "      <td>normal</td>\n",
       "      <td>0</td>\n",
       "    </tr>\n",
       "    <tr>\n",
       "      <th>4</th>\n",
       "      <td>train_RSNA/processed/019ca122-9cdf-4704-b7a9-4...</td>\n",
       "      <td>normal</td>\n",
       "      <td>0</td>\n",
       "    </tr>\n",
       "  </tbody>\n",
       "</table>\n",
       "</div>"
      ],
      "text/plain": [
       "                                                File   Class  valid\n",
       "0  train_RSNA/processed/003d8fa0-6bf1-40ed-b54c-a...  normal      0\n",
       "1  train_RSNA/processed/009eb222-eabc-4150-8121-d...  normal      0\n",
       "2  train_RSNA/processed/01027bc3-dc40-4165-a6c3-d...  normal      0\n",
       "3  train_RSNA/processed/017c7b5b-618e-4bc9-943c-0...  normal      0\n",
       "4  train_RSNA/processed/019ca122-9cdf-4704-b7a9-4...  normal      0"
      ]
     },
     "execution_count": 23,
     "metadata": {},
     "output_type": "execute_result"
    }
   ],
   "source": [
    "df = dfTrain.append(dfTest)\n",
    "print(len(df))\n",
    "df.head()"
   ]
  },
  {
   "cell_type": "markdown",
   "metadata": {},
   "source": [
    "### Converting to 2 classes?"
   ]
  },
  {
   "cell_type": "code",
   "execution_count": 24,
   "metadata": {},
   "outputs": [
    {
     "name": "stdout",
     "output_type": "stream",
     "text": [
      " COVIDs  12976\n",
      " Normal  26191\n",
      " Pneumonia  0\n"
     ]
    }
   ],
   "source": [
    "if (classes_2): \n",
    "    # making it two class only normal\n",
    "    df.loc[df['Class']==\"pneumonia\",\"Class\"] = \"normal\"\n",
    "    \n",
    "print(\" COVIDs \",sum(df[\"Class\"]=='COVID-19'))\n",
    "print(\" Normal \",sum(df[\"Class\"]=='normal'))\n",
    "print(\" Pneumonia \",sum(df[\"Class\"]=='pneumonia'))\n"
   ]
  },
  {
   "cell_type": "markdown",
   "metadata": {},
   "source": [
    "## Data loaders"
   ]
  },
  {
   "cell_type": "code",
   "execution_count": null,
   "metadata": {},
   "outputs": [],
   "source": []
  },
  {
   "cell_type": "code",
   "execution_count": 25,
   "metadata": {},
   "outputs": [],
   "source": [
    "np.random.seed(42)\n",
    "\n",
    "src = (ImageList.from_df(df=df,path=path,cols='File')\n",
    "    .split_from_df(col='valid')\n",
    "    .label_from_df())\n"
   ]
  },
  {
   "cell_type": "code",
   "execution_count": 26,
   "metadata": {},
   "outputs": [],
   "source": [
    "# allowing horizontal flips only. \n",
    "tfms = get_transforms(do_flip=True,max_rotate=5,flip_vert=False, max_lighting=0.1, max_zoom=1.05, max_warp=0.)\n"
   ]
  },
  {
   "cell_type": "code",
   "execution_count": null,
   "metadata": {
    "scrolled": true
   },
   "outputs": [],
   "source": [
    "data = (src.transform(tfms, size=size_1)\n",
    "        .databunch().normalize(imagenet_stats))\n",
    "data.batch_size=bs\n"
   ]
  },
  {
   "cell_type": "code",
   "execution_count": null,
   "metadata": {},
   "outputs": [],
   "source": [
    "data.show_batch(rows=10,figsize=(15,15))"
   ]
  },
  {
   "cell_type": "code",
   "execution_count": null,
   "metadata": {
    "scrolled": false
   },
   "outputs": [],
   "source": [
    "data.train_ds"
   ]
  },
  {
   "cell_type": "code",
   "execution_count": null,
   "metadata": {},
   "outputs": [],
   "source": [
    "data.valid_ds\n"
   ]
  },
  {
   "cell_type": "markdown",
   "metadata": {},
   "source": [
    "### Convert to grayscale"
   ]
  },
  {
   "cell_type": "code",
   "execution_count": null,
   "metadata": {},
   "outputs": [],
   "source": [
    "for itemList in [\"train_dl\", \"valid_dl\", \"fix_dl\", \"test_dl\"]:\n",
    "    itemList = getattr(data, itemList)\n",
    "    if itemList: itemList.x.convert_mode = \"L\""
   ]
  },
  {
   "cell_type": "code",
   "execution_count": null,
   "metadata": {},
   "outputs": [],
   "source": [
    "data.train_ds"
   ]
  },
  {
   "cell_type": "markdown",
   "metadata": {},
   "source": [
    "## learner"
   ]
  },
  {
   "cell_type": "code",
   "execution_count": 31,
   "metadata": {
    "scrolled": true
   },
   "outputs": [
    {
     "data": {
      "text/plain": [
       "'class fbeta_binary(Callback):\\n    \"Computes the f_beta between preds and targets for binary text classification\"\\n\\n    def __init__(self, beta2 = 1, eps=1e-9,sigmoid = True):      \\n        self.beta2=beta2**2\\n        self.eps = eps\\n        self.sigmoid = sigmoid\\n    \\n    def on_epoch_begin(self, **kwargs):\\n        self.TP = 0\\n        self.total_y_pred = 0   \\n        self.total_y_true = 0\\n    \\n    def on_batch_end(self, last_output, last_target, **kwargs):\\n        y_pred = last_output\\n        y_pred = y_pred.softmax(dim = 1)        \\n        y_pred = y_pred.argmax(dim=1)\\n        y_true = last_target.float()\\n        \\n        self.TP += ((y_pred==1) * (y_true==1)).float().sum()\\n        self.total_y_pred += (y_pred==1).float().sum()\\n        self.total_y_true += (y_true==1).float().sum()\\n    \\n    def on_epoch_end(self, **kwargs):\\n        prec = self.TP/(self.total_y_pred+self.eps)\\n        rec = self.TP/(self.total_y_true+self.eps)\\n        res = (prec*rec)/(prec*self.beta2+rec+self.eps)*(1+self.beta2)        \\n        #self.metric = res.mean()\\n        self.metric = res     \\n'"
      ]
     },
     "execution_count": 31,
     "metadata": {},
     "output_type": "execute_result"
    }
   ],
   "source": [
    "'''class fbeta_binary(Callback):\n",
    "    \"Computes the f_beta between preds and targets for binary text classification\"\n",
    "\n",
    "    def __init__(self, beta2 = 1, eps=1e-9,sigmoid = True):      \n",
    "        self.beta2=beta2**2\n",
    "        self.eps = eps\n",
    "        self.sigmoid = sigmoid\n",
    "    \n",
    "    def on_epoch_begin(self, **kwargs):\n",
    "        self.TP = 0\n",
    "        self.total_y_pred = 0   \n",
    "        self.total_y_true = 0\n",
    "    \n",
    "    def on_batch_end(self, last_output, last_target, **kwargs):\n",
    "        y_pred = last_output\n",
    "        y_pred = y_pred.softmax(dim = 1)        \n",
    "        y_pred = y_pred.argmax(dim=1)\n",
    "        y_true = last_target.float()\n",
    "        \n",
    "        self.TP += ((y_pred==1) * (y_true==1)).float().sum()\n",
    "        self.total_y_pred += (y_pred==1).float().sum()\n",
    "        self.total_y_true += (y_true==1).float().sum()\n",
    "    \n",
    "    def on_epoch_end(self, **kwargs):\n",
    "        prec = self.TP/(self.total_y_pred+self.eps)\n",
    "        rec = self.TP/(self.total_y_true+self.eps)\n",
    "        res = (prec*rec)/(prec*self.beta2+rec+self.eps)*(1+self.beta2)        \n",
    "        #self.metric = res.mean()\n",
    "        self.metric = res     \n",
    "'''"
   ]
  },
  {
   "cell_type": "raw",
   "metadata": {},
   "source": []
  },
  {
   "cell_type": "code",
   "execution_count": 32,
   "metadata": {},
   "outputs": [
    {
     "name": "stdout",
     "output_type": "stream",
     "text": [
      "Loaded pretrained weights for efficientnet-b8\n"
     ]
    }
   ],
   "source": [
    "\n",
    "#arch = models.resnet50\n",
    "#arch = models.densenet161\n",
    "#learn = cnn_learner(data, arch, metrics=[accuracy, Precision(), AUROC(), error_rate])\n",
    "# using efficient net\n",
    "# rm model = EfficientNet.from_pretrained(\"efficientnet-b4\", advprop=True)\n",
    "#model = EfficientNet.from_name(\"efficientnet-b7\")\n",
    "model = EfficientNet.from_pretrained(\"efficientnet-b8\", advprop=True) # weights run to NaN\n",
    "#model = EfficientNet.from_name('efficientnet-b4')\n",
    "#model._fc = nn.Linear(1280, data.c)# the last layer... # works for b0,b1\n",
    "#model._fc = nn.Linear(1536, data.c)# the last layer... B3\n",
    "model._fc = nn.Linear(1792, data.c)# the last layer... B4\n",
    "#model._fc = nn.Linear(2048, data.c)# the last layer... B5\n",
    "#model._fc = nn.Linear(2304, data.c)# the last layer... B6\n",
    "#model._fc = nn.Linear(2560, dls.c)# the last layer... B7\n",
    "model._fc = nn.Linear(2816, data.c)# the last layer... B8\n",
    "\n",
    "\n",
    "# learn = cnn_learner(data, model, metrics=[accuracy, Precision(), error_rate])\n",
    "learn = Learner(data, model, metrics=[accuracy, Precision(), error_rate])\n"
   ]
  },
  {
   "cell_type": "code",
   "execution_count": null,
   "metadata": {
    "scrolled": false
   },
   "outputs": [],
   "source": [
    "learn.lr_find()"
   ]
  },
  {
   "cell_type": "code",
   "execution_count": null,
   "metadata": {},
   "outputs": [],
   "source": [
    "learn.recorder.plot(suggestion=True)"
   ]
  },
  {
   "cell_type": "code",
   "execution_count": null,
   "metadata": {},
   "outputs": [],
   "source": [
    "lr = 1.0E-03"
   ]
  },
  {
   "cell_type": "code",
   "execution_count": null,
   "metadata": {
    "scrolled": true
   },
   "outputs": [],
   "source": [
    "learn.fit_one_cycle(10, slice(lr))"
   ]
  },
  {
   "cell_type": "code",
   "execution_count": null,
   "metadata": {
    "scrolled": true
   },
   "outputs": [],
   "source": [
    "learn.recorder.plot_losses()"
   ]
  },
  {
   "cell_type": "code",
   "execution_count": null,
   "metadata": {},
   "outputs": [],
   "source": [
    "learn.save('stage-1-'+str(size_1)+'-enb8')"
   ]
  },
  {
   "cell_type": "code",
   "execution_count": null,
   "metadata": {},
   "outputs": [],
   "source": [
    "interp = ClassificationInterpretation.from_learner(learn)\n",
    "losses,idxs = interp.top_losses()\n",
    "\n",
    "len(data.valid_ds)==len(losses)==len(idxs)"
   ]
  },
  {
   "cell_type": "code",
   "execution_count": null,
   "metadata": {},
   "outputs": [],
   "source": [
    "data.classes, data.c, len(data.train_ds), len(data.valid_ds)"
   ]
  },
  {
   "cell_type": "code",
   "execution_count": null,
   "metadata": {
    "scrolled": true
   },
   "outputs": [],
   "source": [
    "# interp.plot_top_losses(10, figsize=(15,11), heatmap= True)"
   ]
  },
  {
   "cell_type": "code",
   "execution_count": null,
   "metadata": {},
   "outputs": [],
   "source": [
    "interp.plot_confusion_matrix(figsize=(12,12), dpi=60)"
   ]
  },
  {
   "cell_type": "code",
   "execution_count": null,
   "metadata": {},
   "outputs": [],
   "source": [
    "interp.most_confused(min_val=1)"
   ]
  },
  {
   "cell_type": "code",
   "execution_count": null,
   "metadata": {},
   "outputs": [],
   "source": [
    "learn.unfreeze()"
   ]
  },
  {
   "cell_type": "code",
   "execution_count": null,
   "metadata": {
    "scrolled": true
   },
   "outputs": [],
   "source": [
    "learn.lr_find()"
   ]
  },
  {
   "cell_type": "code",
   "execution_count": null,
   "metadata": {},
   "outputs": [],
   "source": [
    "learn.recorder.plot(suggestion=True)"
   ]
  },
  {
   "cell_type": "code",
   "execution_count": null,
   "metadata": {},
   "outputs": [],
   "source": [
    "print(lr)"
   ]
  },
  {
   "cell_type": "code",
   "execution_count": null,
   "metadata": {
    "scrolled": true
   },
   "outputs": [],
   "source": [
    "# learn.fit_one_cycle(15,slice(1e-5, lr/2))\n",
    "learn.fit_one_cycle(15,slice(1e-5))"
   ]
  },
  {
   "cell_type": "code",
   "execution_count": null,
   "metadata": {},
   "outputs": [],
   "source": [
    "learn.recorder.plot_losses()"
   ]
  },
  {
   "cell_type": "code",
   "execution_count": null,
   "metadata": {},
   "outputs": [],
   "source": [
    "learn.save('stage-2-'+str(size_1)+'256-enb8')\n"
   ]
  },
  {
   "cell_type": "code",
   "execution_count": null,
   "metadata": {},
   "outputs": [],
   "source": []
  },
  {
   "cell_type": "code",
   "execution_count": null,
   "metadata": {
    "scrolled": true
   },
   "outputs": [],
   "source": [
    "\n",
    "interp = ClassificationInterpretation.from_learner(learn)\n",
    "losses,idxs = interp.top_losses()\n",
    "\n",
    "len(data.valid_ds)==len(losses)==len(idxs)\n",
    "interp.plot_confusion_matrix(figsize=(12,12), dpi=60)"
   ]
  },
  {
   "cell_type": "code",
   "execution_count": null,
   "metadata": {},
   "outputs": [],
   "source": [
    "mat = interp.confusion_matrix()\n",
    "print(mat)"
   ]
  },
  {
   "cell_type": "code",
   "execution_count": null,
   "metadata": {},
   "outputs": [],
   "source": [
    "diag = sum(mat[i][i] for i in range(len(mat)))\n",
    "sens = np.zeros(len(mat))\n",
    "spec = np.zeros(len(mat))\n",
    "for i in range(len(mat)):\n",
    "    tp = mat[i,i]\n",
    "    fp = sum(mat[:,i])-tp\n",
    "    fn = sum(mat[i,:])-tp\n",
    "    tn = diag - tp\n",
    "#     print(tp, fp, fn, tn)\n",
    "    sens[i] = tp/(tp + fn)\n",
    "    spec[i] = tn/(fp + tn)\n",
    "print (\"Sensitivity\", sens, \"Specificity\", spec)"
   ]
  },
  {
   "cell_type": "markdown",
   "metadata": {},
   "source": [
    "### increasing image size"
   ]
  },
  {
   "cell_type": "code",
   "execution_count": null,
   "metadata": {},
   "outputs": [],
   "source": [
    "# learn = []\n",
    "# torch.cuda.empty_cache()\n",
    "# gc.collect()\n"
   ]
  },
  {
   "cell_type": "code",
   "execution_count": 30,
   "metadata": {},
   "outputs": [],
   "source": [
    "\n",
    "\n",
    "data = (src.transform(tfms, size=size_2)\n",
    "        .databunch().normalize(imagenet_stats))\n",
    "for itemList in [\"train_dl\", \"valid_dl\", \"fix_dl\", \"test_dl\"]:\n",
    "    itemList = getattr(data, itemList)\n",
    "    if itemList: itemList.x.convert_mode = \"L\"\n"
   ]
  },
  {
   "cell_type": "code",
   "execution_count": null,
   "metadata": {
    "scrolled": false
   },
   "outputs": [],
   "source": [
    "learn.load ('stage-2-'+str(size_1)+'256-enb8')"
   ]
  },
  {
   "cell_type": "code",
   "execution_count": 29,
   "metadata": {},
   "outputs": [
    {
     "data": {
      "text/plain": [
       "torch.Size([1, 512, 512])"
      ]
     },
     "execution_count": 29,
     "metadata": {},
     "output_type": "execute_result"
    }
   ],
   "source": [
    "\n",
    "data.batch_size = bs\n",
    "data.train_ds[0][0].shape"
   ]
  },
  {
   "cell_type": "code",
   "execution_count": null,
   "metadata": {},
   "outputs": [],
   "source": [
    "learn.data = data"
   ]
  },
  {
   "cell_type": "code",
   "execution_count": null,
   "metadata": {},
   "outputs": [],
   "source": [
    "learn.freeze()"
   ]
  },
  {
   "cell_type": "code",
   "execution_count": null,
   "metadata": {
    "scrolled": true
   },
   "outputs": [],
   "source": [
    "learn.lr_find()\n",
    "learn.recorder.plot()"
   ]
  },
  {
   "cell_type": "code",
   "execution_count": 33,
   "metadata": {},
   "outputs": [],
   "source": [
    "lr=1e-4/2"
   ]
  },
  {
   "cell_type": "code",
   "execution_count": 34,
   "metadata": {},
   "outputs": [
    {
     "data": {
      "text/html": [
       "\n",
       "    <div>\n",
       "        <style>\n",
       "            /* Turns off some styling */\n",
       "            progress {\n",
       "                /* gets rid of default border in Firefox and Opera. */\n",
       "                border: none;\n",
       "                /* Needs to be in here for Safari polyfill so background images work as expected. */\n",
       "                background-size: auto;\n",
       "            }\n",
       "            .progress-bar-interrupted, .progress-bar-interrupted::-webkit-progress-bar {\n",
       "                background: #F44336;\n",
       "            }\n",
       "        </style>\n",
       "      <progress value='0' class='' max='10' style='width:300px; height:20px; vertical-align: middle;'></progress>\n",
       "      0.00% [0/10 00:00<00:00]\n",
       "    </div>\n",
       "    \n",
       "<table border=\"1\" class=\"dataframe\">\n",
       "  <thead>\n",
       "    <tr style=\"text-align: left;\">\n",
       "      <th>epoch</th>\n",
       "      <th>train_loss</th>\n",
       "      <th>valid_loss</th>\n",
       "      <th>accuracy</th>\n",
       "      <th>precision</th>\n",
       "      <th>error_rate</th>\n",
       "      <th>time</th>\n",
       "    </tr>\n",
       "  </thead>\n",
       "  <tbody>\n",
       "  </tbody>\n",
       "</table><p>\n",
       "\n",
       "    <div>\n",
       "        <style>\n",
       "            /* Turns off some styling */\n",
       "            progress {\n",
       "                /* gets rid of default border in Firefox and Opera. */\n",
       "                border: none;\n",
       "                /* Needs to be in here for Safari polyfill so background images work as expected. */\n",
       "                background-size: auto;\n",
       "            }\n",
       "            .progress-bar-interrupted, .progress-bar-interrupted::-webkit-progress-bar {\n",
       "                background: #F44336;\n",
       "            }\n",
       "        </style>\n",
       "      <progress value='0' class='' max='557' style='width:300px; height:20px; vertical-align: middle;'></progress>\n",
       "      0.00% [0/557 00:00<00:00]\n",
       "    </div>\n",
       "    "
      ],
      "text/plain": [
       "<IPython.core.display.HTML object>"
      ]
     },
     "metadata": {},
     "output_type": "display_data"
    },
    {
     "ename": "RuntimeError",
     "evalue": "CUDA out of memory. Tried to allocate 512.00 MiB (GPU 0; 10.76 GiB total capacity; 9.72 GiB already allocated; 252.38 MiB free; 9.74 GiB reserved in total by PyTorch)",
     "output_type": "error",
     "traceback": [
      "\u001b[0;31m---------------------------------------------------------------------------\u001b[0m",
      "\u001b[0;31mRuntimeError\u001b[0m                              Traceback (most recent call last)",
      "\u001b[0;32m<ipython-input-34-56c1c61458d6>\u001b[0m in \u001b[0;36m<module>\u001b[0;34m\u001b[0m\n\u001b[0;32m----> 1\u001b[0;31m \u001b[0mlearn\u001b[0m\u001b[0;34m.\u001b[0m\u001b[0mfit_one_cycle\u001b[0m\u001b[0;34m(\u001b[0m\u001b[0;36m10\u001b[0m\u001b[0;34m,\u001b[0m \u001b[0mslice\u001b[0m\u001b[0;34m(\u001b[0m\u001b[0mlr\u001b[0m\u001b[0;34m)\u001b[0m\u001b[0;34m)\u001b[0m\u001b[0;34m\u001b[0m\u001b[0;34m\u001b[0m\u001b[0m\n\u001b[0m",
      "\u001b[0;32m~/miniconda2/envs/fastai-3.6/lib/python3.6/site-packages/fastai/train.py\u001b[0m in \u001b[0;36mfit_one_cycle\u001b[0;34m(learn, cyc_len, max_lr, moms, div_factor, pct_start, final_div, wd, callbacks, tot_epochs, start_epoch)\u001b[0m\n\u001b[1;32m     21\u001b[0m     callbacks.append(OneCycleScheduler(learn, max_lr, moms=moms, div_factor=div_factor, pct_start=pct_start,\n\u001b[1;32m     22\u001b[0m                                        final_div=final_div, tot_epochs=tot_epochs, start_epoch=start_epoch))\n\u001b[0;32m---> 23\u001b[0;31m     \u001b[0mlearn\u001b[0m\u001b[0;34m.\u001b[0m\u001b[0mfit\u001b[0m\u001b[0;34m(\u001b[0m\u001b[0mcyc_len\u001b[0m\u001b[0;34m,\u001b[0m \u001b[0mmax_lr\u001b[0m\u001b[0;34m,\u001b[0m \u001b[0mwd\u001b[0m\u001b[0;34m=\u001b[0m\u001b[0mwd\u001b[0m\u001b[0;34m,\u001b[0m \u001b[0mcallbacks\u001b[0m\u001b[0;34m=\u001b[0m\u001b[0mcallbacks\u001b[0m\u001b[0;34m)\u001b[0m\u001b[0;34m\u001b[0m\u001b[0;34m\u001b[0m\u001b[0m\n\u001b[0m\u001b[1;32m     24\u001b[0m \u001b[0;34m\u001b[0m\u001b[0m\n\u001b[1;32m     25\u001b[0m def fit_fc(learn:Learner, tot_epochs:int=1, lr:float=defaults.lr,  moms:Tuple[float,float]=(0.95,0.85), start_pct:float=0.72,\n",
      "\u001b[0;32m~/miniconda2/envs/fastai-3.6/lib/python3.6/site-packages/fastai/basic_train.py\u001b[0m in \u001b[0;36mfit\u001b[0;34m(self, epochs, lr, wd, callbacks)\u001b[0m\n\u001b[1;32m    198\u001b[0m         \u001b[0;32melse\u001b[0m\u001b[0;34m:\u001b[0m \u001b[0mself\u001b[0m\u001b[0;34m.\u001b[0m\u001b[0mopt\u001b[0m\u001b[0;34m.\u001b[0m\u001b[0mlr\u001b[0m\u001b[0;34m,\u001b[0m\u001b[0mself\u001b[0m\u001b[0;34m.\u001b[0m\u001b[0mopt\u001b[0m\u001b[0;34m.\u001b[0m\u001b[0mwd\u001b[0m \u001b[0;34m=\u001b[0m \u001b[0mlr\u001b[0m\u001b[0;34m,\u001b[0m\u001b[0mwd\u001b[0m\u001b[0;34m\u001b[0m\u001b[0;34m\u001b[0m\u001b[0m\n\u001b[1;32m    199\u001b[0m         \u001b[0mcallbacks\u001b[0m \u001b[0;34m=\u001b[0m \u001b[0;34m[\u001b[0m\u001b[0mcb\u001b[0m\u001b[0;34m(\u001b[0m\u001b[0mself\u001b[0m\u001b[0;34m)\u001b[0m \u001b[0;32mfor\u001b[0m \u001b[0mcb\u001b[0m \u001b[0;32min\u001b[0m \u001b[0mself\u001b[0m\u001b[0;34m.\u001b[0m\u001b[0mcallback_fns\u001b[0m \u001b[0;34m+\u001b[0m \u001b[0mlistify\u001b[0m\u001b[0;34m(\u001b[0m\u001b[0mdefaults\u001b[0m\u001b[0;34m.\u001b[0m\u001b[0mextra_callback_fns\u001b[0m\u001b[0;34m)\u001b[0m\u001b[0;34m]\u001b[0m \u001b[0;34m+\u001b[0m \u001b[0mlistify\u001b[0m\u001b[0;34m(\u001b[0m\u001b[0mcallbacks\u001b[0m\u001b[0;34m)\u001b[0m\u001b[0;34m\u001b[0m\u001b[0;34m\u001b[0m\u001b[0m\n\u001b[0;32m--> 200\u001b[0;31m         \u001b[0mfit\u001b[0m\u001b[0;34m(\u001b[0m\u001b[0mepochs\u001b[0m\u001b[0;34m,\u001b[0m \u001b[0mself\u001b[0m\u001b[0;34m,\u001b[0m \u001b[0mmetrics\u001b[0m\u001b[0;34m=\u001b[0m\u001b[0mself\u001b[0m\u001b[0;34m.\u001b[0m\u001b[0mmetrics\u001b[0m\u001b[0;34m,\u001b[0m \u001b[0mcallbacks\u001b[0m\u001b[0;34m=\u001b[0m\u001b[0mself\u001b[0m\u001b[0;34m.\u001b[0m\u001b[0mcallbacks\u001b[0m\u001b[0;34m+\u001b[0m\u001b[0mcallbacks\u001b[0m\u001b[0;34m)\u001b[0m\u001b[0;34m\u001b[0m\u001b[0;34m\u001b[0m\u001b[0m\n\u001b[0m\u001b[1;32m    201\u001b[0m \u001b[0;34m\u001b[0m\u001b[0m\n\u001b[1;32m    202\u001b[0m     \u001b[0;32mdef\u001b[0m \u001b[0mcreate_opt\u001b[0m\u001b[0;34m(\u001b[0m\u001b[0mself\u001b[0m\u001b[0;34m,\u001b[0m \u001b[0mlr\u001b[0m\u001b[0;34m:\u001b[0m\u001b[0mFloats\u001b[0m\u001b[0;34m,\u001b[0m \u001b[0mwd\u001b[0m\u001b[0;34m:\u001b[0m\u001b[0mFloats\u001b[0m\u001b[0;34m=\u001b[0m\u001b[0;36m0.\u001b[0m\u001b[0;34m)\u001b[0m\u001b[0;34m->\u001b[0m\u001b[0;32mNone\u001b[0m\u001b[0;34m:\u001b[0m\u001b[0;34m\u001b[0m\u001b[0;34m\u001b[0m\u001b[0m\n",
      "\u001b[0;32m~/miniconda2/envs/fastai-3.6/lib/python3.6/site-packages/fastai/basic_train.py\u001b[0m in \u001b[0;36mfit\u001b[0;34m(epochs, learn, callbacks, metrics)\u001b[0m\n\u001b[1;32m     99\u001b[0m             \u001b[0;32mfor\u001b[0m \u001b[0mxb\u001b[0m\u001b[0;34m,\u001b[0m\u001b[0myb\u001b[0m \u001b[0;32min\u001b[0m \u001b[0mprogress_bar\u001b[0m\u001b[0;34m(\u001b[0m\u001b[0mlearn\u001b[0m\u001b[0;34m.\u001b[0m\u001b[0mdata\u001b[0m\u001b[0;34m.\u001b[0m\u001b[0mtrain_dl\u001b[0m\u001b[0;34m,\u001b[0m \u001b[0mparent\u001b[0m\u001b[0;34m=\u001b[0m\u001b[0mpbar\u001b[0m\u001b[0;34m)\u001b[0m\u001b[0;34m:\u001b[0m\u001b[0;34m\u001b[0m\u001b[0;34m\u001b[0m\u001b[0m\n\u001b[1;32m    100\u001b[0m                 \u001b[0mxb\u001b[0m\u001b[0;34m,\u001b[0m \u001b[0myb\u001b[0m \u001b[0;34m=\u001b[0m \u001b[0mcb_handler\u001b[0m\u001b[0;34m.\u001b[0m\u001b[0mon_batch_begin\u001b[0m\u001b[0;34m(\u001b[0m\u001b[0mxb\u001b[0m\u001b[0;34m,\u001b[0m \u001b[0myb\u001b[0m\u001b[0;34m)\u001b[0m\u001b[0;34m\u001b[0m\u001b[0;34m\u001b[0m\u001b[0m\n\u001b[0;32m--> 101\u001b[0;31m                 \u001b[0mloss\u001b[0m \u001b[0;34m=\u001b[0m \u001b[0mloss_batch\u001b[0m\u001b[0;34m(\u001b[0m\u001b[0mlearn\u001b[0m\u001b[0;34m.\u001b[0m\u001b[0mmodel\u001b[0m\u001b[0;34m,\u001b[0m \u001b[0mxb\u001b[0m\u001b[0;34m,\u001b[0m \u001b[0myb\u001b[0m\u001b[0;34m,\u001b[0m \u001b[0mlearn\u001b[0m\u001b[0;34m.\u001b[0m\u001b[0mloss_func\u001b[0m\u001b[0;34m,\u001b[0m \u001b[0mlearn\u001b[0m\u001b[0;34m.\u001b[0m\u001b[0mopt\u001b[0m\u001b[0;34m,\u001b[0m \u001b[0mcb_handler\u001b[0m\u001b[0;34m)\u001b[0m\u001b[0;34m\u001b[0m\u001b[0;34m\u001b[0m\u001b[0m\n\u001b[0m\u001b[1;32m    102\u001b[0m                 \u001b[0;32mif\u001b[0m \u001b[0mcb_handler\u001b[0m\u001b[0;34m.\u001b[0m\u001b[0mon_batch_end\u001b[0m\u001b[0;34m(\u001b[0m\u001b[0mloss\u001b[0m\u001b[0;34m)\u001b[0m\u001b[0;34m:\u001b[0m \u001b[0;32mbreak\u001b[0m\u001b[0;34m\u001b[0m\u001b[0;34m\u001b[0m\u001b[0m\n\u001b[1;32m    103\u001b[0m \u001b[0;34m\u001b[0m\u001b[0m\n",
      "\u001b[0;32m~/miniconda2/envs/fastai-3.6/lib/python3.6/site-packages/fastai/basic_train.py\u001b[0m in \u001b[0;36mloss_batch\u001b[0;34m(model, xb, yb, loss_func, opt, cb_handler)\u001b[0m\n\u001b[1;32m     24\u001b[0m     \u001b[0;32mif\u001b[0m \u001b[0;32mnot\u001b[0m \u001b[0mis_listy\u001b[0m\u001b[0;34m(\u001b[0m\u001b[0mxb\u001b[0m\u001b[0;34m)\u001b[0m\u001b[0;34m:\u001b[0m \u001b[0mxb\u001b[0m \u001b[0;34m=\u001b[0m \u001b[0;34m[\u001b[0m\u001b[0mxb\u001b[0m\u001b[0;34m]\u001b[0m\u001b[0;34m\u001b[0m\u001b[0;34m\u001b[0m\u001b[0m\n\u001b[1;32m     25\u001b[0m     \u001b[0;32mif\u001b[0m \u001b[0;32mnot\u001b[0m \u001b[0mis_listy\u001b[0m\u001b[0;34m(\u001b[0m\u001b[0myb\u001b[0m\u001b[0;34m)\u001b[0m\u001b[0;34m:\u001b[0m \u001b[0myb\u001b[0m \u001b[0;34m=\u001b[0m \u001b[0;34m[\u001b[0m\u001b[0myb\u001b[0m\u001b[0;34m]\u001b[0m\u001b[0;34m\u001b[0m\u001b[0;34m\u001b[0m\u001b[0m\n\u001b[0;32m---> 26\u001b[0;31m     \u001b[0mout\u001b[0m \u001b[0;34m=\u001b[0m \u001b[0mmodel\u001b[0m\u001b[0;34m(\u001b[0m\u001b[0;34m*\u001b[0m\u001b[0mxb\u001b[0m\u001b[0;34m)\u001b[0m\u001b[0;34m\u001b[0m\u001b[0;34m\u001b[0m\u001b[0m\n\u001b[0m\u001b[1;32m     27\u001b[0m     \u001b[0mout\u001b[0m \u001b[0;34m=\u001b[0m \u001b[0mcb_handler\u001b[0m\u001b[0;34m.\u001b[0m\u001b[0mon_loss_begin\u001b[0m\u001b[0;34m(\u001b[0m\u001b[0mout\u001b[0m\u001b[0;34m)\u001b[0m\u001b[0;34m\u001b[0m\u001b[0;34m\u001b[0m\u001b[0m\n\u001b[1;32m     28\u001b[0m \u001b[0;34m\u001b[0m\u001b[0m\n",
      "\u001b[0;32m~/miniconda2/envs/fastai-3.6/lib/python3.6/site-packages/torch/nn/modules/module.py\u001b[0m in \u001b[0;36m__call__\u001b[0;34m(self, *input, **kwargs)\u001b[0m\n\u001b[1;32m    530\u001b[0m             \u001b[0mresult\u001b[0m \u001b[0;34m=\u001b[0m \u001b[0mself\u001b[0m\u001b[0;34m.\u001b[0m\u001b[0m_slow_forward\u001b[0m\u001b[0;34m(\u001b[0m\u001b[0;34m*\u001b[0m\u001b[0minput\u001b[0m\u001b[0;34m,\u001b[0m \u001b[0;34m**\u001b[0m\u001b[0mkwargs\u001b[0m\u001b[0;34m)\u001b[0m\u001b[0;34m\u001b[0m\u001b[0;34m\u001b[0m\u001b[0m\n\u001b[1;32m    531\u001b[0m         \u001b[0;32melse\u001b[0m\u001b[0;34m:\u001b[0m\u001b[0;34m\u001b[0m\u001b[0;34m\u001b[0m\u001b[0m\n\u001b[0;32m--> 532\u001b[0;31m             \u001b[0mresult\u001b[0m \u001b[0;34m=\u001b[0m \u001b[0mself\u001b[0m\u001b[0;34m.\u001b[0m\u001b[0mforward\u001b[0m\u001b[0;34m(\u001b[0m\u001b[0;34m*\u001b[0m\u001b[0minput\u001b[0m\u001b[0;34m,\u001b[0m \u001b[0;34m**\u001b[0m\u001b[0mkwargs\u001b[0m\u001b[0;34m)\u001b[0m\u001b[0;34m\u001b[0m\u001b[0;34m\u001b[0m\u001b[0m\n\u001b[0m\u001b[1;32m    533\u001b[0m         \u001b[0;32mfor\u001b[0m \u001b[0mhook\u001b[0m \u001b[0;32min\u001b[0m \u001b[0mself\u001b[0m\u001b[0;34m.\u001b[0m\u001b[0m_forward_hooks\u001b[0m\u001b[0;34m.\u001b[0m\u001b[0mvalues\u001b[0m\u001b[0;34m(\u001b[0m\u001b[0;34m)\u001b[0m\u001b[0;34m:\u001b[0m\u001b[0;34m\u001b[0m\u001b[0;34m\u001b[0m\u001b[0m\n\u001b[1;32m    534\u001b[0m             \u001b[0mhook_result\u001b[0m \u001b[0;34m=\u001b[0m \u001b[0mhook\u001b[0m\u001b[0;34m(\u001b[0m\u001b[0mself\u001b[0m\u001b[0;34m,\u001b[0m \u001b[0minput\u001b[0m\u001b[0;34m,\u001b[0m \u001b[0mresult\u001b[0m\u001b[0;34m)\u001b[0m\u001b[0;34m\u001b[0m\u001b[0;34m\u001b[0m\u001b[0m\n",
      "\u001b[0;32m~/miniconda2/envs/fastai-3.6/lib/python3.6/site-packages/efficientnet_pytorch/model.py\u001b[0m in \u001b[0;36mforward\u001b[0;34m(self, inputs)\u001b[0m\n\u001b[1;32m    309\u001b[0m         \"\"\"\n\u001b[1;32m    310\u001b[0m         \u001b[0;31m# Convolution layers\u001b[0m\u001b[0;34m\u001b[0m\u001b[0;34m\u001b[0m\u001b[0;34m\u001b[0m\u001b[0m\n\u001b[0;32m--> 311\u001b[0;31m         \u001b[0mx\u001b[0m \u001b[0;34m=\u001b[0m \u001b[0mself\u001b[0m\u001b[0;34m.\u001b[0m\u001b[0mextract_features\u001b[0m\u001b[0;34m(\u001b[0m\u001b[0minputs\u001b[0m\u001b[0;34m)\u001b[0m\u001b[0;34m\u001b[0m\u001b[0;34m\u001b[0m\u001b[0m\n\u001b[0m\u001b[1;32m    312\u001b[0m         \u001b[0;31m# Pooling and final linear layer\u001b[0m\u001b[0;34m\u001b[0m\u001b[0;34m\u001b[0m\u001b[0;34m\u001b[0m\u001b[0m\n\u001b[1;32m    313\u001b[0m         \u001b[0mx\u001b[0m \u001b[0;34m=\u001b[0m \u001b[0mself\u001b[0m\u001b[0;34m.\u001b[0m\u001b[0m_avg_pooling\u001b[0m\u001b[0;34m(\u001b[0m\u001b[0mx\u001b[0m\u001b[0;34m)\u001b[0m\u001b[0;34m\u001b[0m\u001b[0;34m\u001b[0m\u001b[0m\n",
      "\u001b[0;32m~/miniconda2/envs/fastai-3.6/lib/python3.6/site-packages/efficientnet_pytorch/model.py\u001b[0m in \u001b[0;36mextract_features\u001b[0;34m(self, inputs)\u001b[0m\n\u001b[1;32m    291\u001b[0m             \u001b[0;32mif\u001b[0m \u001b[0mdrop_connect_rate\u001b[0m\u001b[0;34m:\u001b[0m\u001b[0;34m\u001b[0m\u001b[0;34m\u001b[0m\u001b[0m\n\u001b[1;32m    292\u001b[0m                 \u001b[0mdrop_connect_rate\u001b[0m \u001b[0;34m*=\u001b[0m \u001b[0mfloat\u001b[0m\u001b[0;34m(\u001b[0m\u001b[0midx\u001b[0m\u001b[0;34m)\u001b[0m \u001b[0;34m/\u001b[0m \u001b[0mlen\u001b[0m\u001b[0;34m(\u001b[0m\u001b[0mself\u001b[0m\u001b[0;34m.\u001b[0m\u001b[0m_blocks\u001b[0m\u001b[0;34m)\u001b[0m \u001b[0;31m# scale drop connect_rate\u001b[0m\u001b[0;34m\u001b[0m\u001b[0;34m\u001b[0m\u001b[0m\n\u001b[0;32m--> 293\u001b[0;31m             \u001b[0mx\u001b[0m \u001b[0;34m=\u001b[0m \u001b[0mblock\u001b[0m\u001b[0;34m(\u001b[0m\u001b[0mx\u001b[0m\u001b[0;34m,\u001b[0m \u001b[0mdrop_connect_rate\u001b[0m\u001b[0;34m=\u001b[0m\u001b[0mdrop_connect_rate\u001b[0m\u001b[0;34m)\u001b[0m\u001b[0;34m\u001b[0m\u001b[0;34m\u001b[0m\u001b[0m\n\u001b[0m\u001b[1;32m    294\u001b[0m \u001b[0;34m\u001b[0m\u001b[0m\n\u001b[1;32m    295\u001b[0m         \u001b[0;31m# Head\u001b[0m\u001b[0;34m\u001b[0m\u001b[0;34m\u001b[0m\u001b[0;34m\u001b[0m\u001b[0m\n",
      "\u001b[0;32m~/miniconda2/envs/fastai-3.6/lib/python3.6/site-packages/torch/nn/modules/module.py\u001b[0m in \u001b[0;36m__call__\u001b[0;34m(self, *input, **kwargs)\u001b[0m\n\u001b[1;32m    530\u001b[0m             \u001b[0mresult\u001b[0m \u001b[0;34m=\u001b[0m \u001b[0mself\u001b[0m\u001b[0;34m.\u001b[0m\u001b[0m_slow_forward\u001b[0m\u001b[0;34m(\u001b[0m\u001b[0;34m*\u001b[0m\u001b[0minput\u001b[0m\u001b[0;34m,\u001b[0m \u001b[0;34m**\u001b[0m\u001b[0mkwargs\u001b[0m\u001b[0;34m)\u001b[0m\u001b[0;34m\u001b[0m\u001b[0;34m\u001b[0m\u001b[0m\n\u001b[1;32m    531\u001b[0m         \u001b[0;32melse\u001b[0m\u001b[0;34m:\u001b[0m\u001b[0;34m\u001b[0m\u001b[0;34m\u001b[0m\u001b[0m\n\u001b[0;32m--> 532\u001b[0;31m             \u001b[0mresult\u001b[0m \u001b[0;34m=\u001b[0m \u001b[0mself\u001b[0m\u001b[0;34m.\u001b[0m\u001b[0mforward\u001b[0m\u001b[0;34m(\u001b[0m\u001b[0;34m*\u001b[0m\u001b[0minput\u001b[0m\u001b[0;34m,\u001b[0m \u001b[0;34m**\u001b[0m\u001b[0mkwargs\u001b[0m\u001b[0;34m)\u001b[0m\u001b[0;34m\u001b[0m\u001b[0;34m\u001b[0m\u001b[0m\n\u001b[0m\u001b[1;32m    533\u001b[0m         \u001b[0;32mfor\u001b[0m \u001b[0mhook\u001b[0m \u001b[0;32min\u001b[0m \u001b[0mself\u001b[0m\u001b[0;34m.\u001b[0m\u001b[0m_forward_hooks\u001b[0m\u001b[0;34m.\u001b[0m\u001b[0mvalues\u001b[0m\u001b[0;34m(\u001b[0m\u001b[0;34m)\u001b[0m\u001b[0;34m:\u001b[0m\u001b[0;34m\u001b[0m\u001b[0;34m\u001b[0m\u001b[0m\n\u001b[1;32m    534\u001b[0m             \u001b[0mhook_result\u001b[0m \u001b[0;34m=\u001b[0m \u001b[0mhook\u001b[0m\u001b[0;34m(\u001b[0m\u001b[0mself\u001b[0m\u001b[0;34m,\u001b[0m \u001b[0minput\u001b[0m\u001b[0;34m,\u001b[0m \u001b[0mresult\u001b[0m\u001b[0;34m)\u001b[0m\u001b[0;34m\u001b[0m\u001b[0;34m\u001b[0m\u001b[0m\n",
      "\u001b[0;32m~/miniconda2/envs/fastai-3.6/lib/python3.6/site-packages/efficientnet_pytorch/model.py\u001b[0m in \u001b[0;36mforward\u001b[0;34m(self, inputs, drop_connect_rate)\u001b[0m\n\u001b[1;32m    120\u001b[0m \u001b[0;34m\u001b[0m\u001b[0m\n\u001b[1;32m    121\u001b[0m         \u001b[0;31m# Pointwise Convolution\u001b[0m\u001b[0;34m\u001b[0m\u001b[0;34m\u001b[0m\u001b[0;34m\u001b[0m\u001b[0m\n\u001b[0;32m--> 122\u001b[0;31m         \u001b[0mx\u001b[0m \u001b[0;34m=\u001b[0m \u001b[0mself\u001b[0m\u001b[0;34m.\u001b[0m\u001b[0m_project_conv\u001b[0m\u001b[0;34m(\u001b[0m\u001b[0mx\u001b[0m\u001b[0;34m)\u001b[0m\u001b[0;34m\u001b[0m\u001b[0;34m\u001b[0m\u001b[0m\n\u001b[0m\u001b[1;32m    123\u001b[0m         \u001b[0mx\u001b[0m \u001b[0;34m=\u001b[0m \u001b[0mself\u001b[0m\u001b[0;34m.\u001b[0m\u001b[0m_bn2\u001b[0m\u001b[0;34m(\u001b[0m\u001b[0mx\u001b[0m\u001b[0;34m)\u001b[0m\u001b[0;34m\u001b[0m\u001b[0;34m\u001b[0m\u001b[0m\n\u001b[1;32m    124\u001b[0m \u001b[0;34m\u001b[0m\u001b[0m\n",
      "\u001b[0;32m~/miniconda2/envs/fastai-3.6/lib/python3.6/site-packages/torch/nn/modules/module.py\u001b[0m in \u001b[0;36m__call__\u001b[0;34m(self, *input, **kwargs)\u001b[0m\n\u001b[1;32m    530\u001b[0m             \u001b[0mresult\u001b[0m \u001b[0;34m=\u001b[0m \u001b[0mself\u001b[0m\u001b[0;34m.\u001b[0m\u001b[0m_slow_forward\u001b[0m\u001b[0;34m(\u001b[0m\u001b[0;34m*\u001b[0m\u001b[0minput\u001b[0m\u001b[0;34m,\u001b[0m \u001b[0;34m**\u001b[0m\u001b[0mkwargs\u001b[0m\u001b[0;34m)\u001b[0m\u001b[0;34m\u001b[0m\u001b[0;34m\u001b[0m\u001b[0m\n\u001b[1;32m    531\u001b[0m         \u001b[0;32melse\u001b[0m\u001b[0;34m:\u001b[0m\u001b[0;34m\u001b[0m\u001b[0;34m\u001b[0m\u001b[0m\n\u001b[0;32m--> 532\u001b[0;31m             \u001b[0mresult\u001b[0m \u001b[0;34m=\u001b[0m \u001b[0mself\u001b[0m\u001b[0;34m.\u001b[0m\u001b[0mforward\u001b[0m\u001b[0;34m(\u001b[0m\u001b[0;34m*\u001b[0m\u001b[0minput\u001b[0m\u001b[0;34m,\u001b[0m \u001b[0;34m**\u001b[0m\u001b[0mkwargs\u001b[0m\u001b[0;34m)\u001b[0m\u001b[0;34m\u001b[0m\u001b[0;34m\u001b[0m\u001b[0m\n\u001b[0m\u001b[1;32m    533\u001b[0m         \u001b[0;32mfor\u001b[0m \u001b[0mhook\u001b[0m \u001b[0;32min\u001b[0m \u001b[0mself\u001b[0m\u001b[0;34m.\u001b[0m\u001b[0m_forward_hooks\u001b[0m\u001b[0;34m.\u001b[0m\u001b[0mvalues\u001b[0m\u001b[0;34m(\u001b[0m\u001b[0;34m)\u001b[0m\u001b[0;34m:\u001b[0m\u001b[0;34m\u001b[0m\u001b[0;34m\u001b[0m\u001b[0m\n\u001b[1;32m    534\u001b[0m             \u001b[0mhook_result\u001b[0m \u001b[0;34m=\u001b[0m \u001b[0mhook\u001b[0m\u001b[0;34m(\u001b[0m\u001b[0mself\u001b[0m\u001b[0;34m,\u001b[0m \u001b[0minput\u001b[0m\u001b[0;34m,\u001b[0m \u001b[0mresult\u001b[0m\u001b[0;34m)\u001b[0m\u001b[0;34m\u001b[0m\u001b[0;34m\u001b[0m\u001b[0m\n",
      "\u001b[0;32m~/miniconda2/envs/fastai-3.6/lib/python3.6/site-packages/efficientnet_pytorch/utils.py\u001b[0m in \u001b[0;36mforward\u001b[0;34m(self, x)\u001b[0m\n\u001b[1;32m    269\u001b[0m     \u001b[0;32mdef\u001b[0m \u001b[0mforward\u001b[0m\u001b[0;34m(\u001b[0m\u001b[0mself\u001b[0m\u001b[0;34m,\u001b[0m \u001b[0mx\u001b[0m\u001b[0;34m)\u001b[0m\u001b[0;34m:\u001b[0m\u001b[0;34m\u001b[0m\u001b[0;34m\u001b[0m\u001b[0m\n\u001b[1;32m    270\u001b[0m         \u001b[0mx\u001b[0m \u001b[0;34m=\u001b[0m \u001b[0mself\u001b[0m\u001b[0;34m.\u001b[0m\u001b[0mstatic_padding\u001b[0m\u001b[0;34m(\u001b[0m\u001b[0mx\u001b[0m\u001b[0;34m)\u001b[0m\u001b[0;34m\u001b[0m\u001b[0;34m\u001b[0m\u001b[0m\n\u001b[0;32m--> 271\u001b[0;31m         \u001b[0mx\u001b[0m \u001b[0;34m=\u001b[0m \u001b[0mF\u001b[0m\u001b[0;34m.\u001b[0m\u001b[0mconv2d\u001b[0m\u001b[0;34m(\u001b[0m\u001b[0mx\u001b[0m\u001b[0;34m,\u001b[0m \u001b[0mself\u001b[0m\u001b[0;34m.\u001b[0m\u001b[0mweight\u001b[0m\u001b[0;34m,\u001b[0m \u001b[0mself\u001b[0m\u001b[0;34m.\u001b[0m\u001b[0mbias\u001b[0m\u001b[0;34m,\u001b[0m \u001b[0mself\u001b[0m\u001b[0;34m.\u001b[0m\u001b[0mstride\u001b[0m\u001b[0;34m,\u001b[0m \u001b[0mself\u001b[0m\u001b[0;34m.\u001b[0m\u001b[0mpadding\u001b[0m\u001b[0;34m,\u001b[0m \u001b[0mself\u001b[0m\u001b[0;34m.\u001b[0m\u001b[0mdilation\u001b[0m\u001b[0;34m,\u001b[0m \u001b[0mself\u001b[0m\u001b[0;34m.\u001b[0m\u001b[0mgroups\u001b[0m\u001b[0;34m)\u001b[0m\u001b[0;34m\u001b[0m\u001b[0;34m\u001b[0m\u001b[0m\n\u001b[0m\u001b[1;32m    272\u001b[0m         \u001b[0;32mreturn\u001b[0m \u001b[0mx\u001b[0m\u001b[0;34m\u001b[0m\u001b[0;34m\u001b[0m\u001b[0m\n\u001b[1;32m    273\u001b[0m \u001b[0;34m\u001b[0m\u001b[0m\n",
      "\u001b[0;31mRuntimeError\u001b[0m: CUDA out of memory. Tried to allocate 512.00 MiB (GPU 0; 10.76 GiB total capacity; 9.72 GiB already allocated; 252.38 MiB free; 9.74 GiB reserved in total by PyTorch)"
     ]
    }
   ],
   "source": [
    "learn.fit_one_cycle(10, slice(lr))"
   ]
  },
  {
   "cell_type": "code",
   "execution_count": null,
   "metadata": {},
   "outputs": [],
   "source": [
    "learn.recorder.plot_losses()"
   ]
  },
  {
   "cell_type": "code",
   "execution_count": null,
   "metadata": {},
   "outputs": [],
   "source": [
    "learn.save('stage-1-'+str(size_2)+'-enb8')"
   ]
  },
  {
   "cell_type": "code",
   "execution_count": null,
   "metadata": {},
   "outputs": [],
   "source": [
    "learn.unfreeze()"
   ]
  },
  {
   "cell_type": "code",
   "execution_count": null,
   "metadata": {},
   "outputs": [],
   "source": [
    "learn.lr_find()\n",
    "learn.recorder.plot()"
   ]
  },
  {
   "cell_type": "code",
   "execution_count": null,
   "metadata": {
    "scrolled": true
   },
   "outputs": [],
   "source": [
    "learn.fit_one_cycle(15, slice(1e-3))"
   ]
  },
  {
   "cell_type": "code",
   "execution_count": null,
   "metadata": {},
   "outputs": [],
   "source": [
    "learn.recorder.plot_losses()"
   ]
  },
  {
   "cell_type": "code",
   "execution_count": null,
   "metadata": {},
   "outputs": [],
   "source": [
    "learn.save('stage-2-'+str(size_2)+'-rn50')\n"
   ]
  },
  {
   "cell_type": "code",
   "execution_count": null,
   "metadata": {},
   "outputs": [],
   "source": []
  },
  {
   "cell_type": "code",
   "execution_count": null,
   "metadata": {
    "scrolled": false
   },
   "outputs": [],
   "source": [
    "interp = ClassificationInterpretation.from_learner(learn)\n",
    "losses,idxs = interp.top_losses()\n",
    "\n",
    "len(data.valid_ds)==len(losses)==len(idxs)\n",
    "interp.plot_confusion_matrix(figsize=(12,12), dpi=60)"
   ]
  },
  {
   "cell_type": "code",
   "execution_count": null,
   "metadata": {
    "scrolled": true
   },
   "outputs": [],
   "source": [
    "interp.plot_top_losses(10, figsize=(15,11), largest=True, heatmap= True)"
   ]
  },
  {
   "cell_type": "code",
   "execution_count": null,
   "metadata": {
    "scrolled": false
   },
   "outputs": [],
   "source": [
    "interp.plot_top_losses(10, figsize=(15,11), largest=False, heatmap= True)"
   ]
  },
  {
   "cell_type": "code",
   "execution_count": null,
   "metadata": {},
   "outputs": [],
   "source": [
    "mat = interp.confusion_matrix()\n",
    "print(mat)"
   ]
  },
  {
   "cell_type": "code",
   "execution_count": null,
   "metadata": {},
   "outputs": [],
   "source": [
    "diag = sum(mat[i][i] for i in range(len(mat)))\n",
    "sens = np.zeros(len(mat))\n",
    "spec = np.zeros(len(mat))\n",
    "for i in range(len(mat)):\n",
    "    tp = mat[i,i]\n",
    "    fp = sum(mat[:,i])-tp\n",
    "    fn = sum(mat[i,:])-tp\n",
    "    tn = diag - tp\n",
    "#     print(tp, fp, fn, tn)\n",
    "    sens[i] = tp/(tp + fn)\n",
    "    spec[i] = tn/(fp + tn)\n",
    "print (\"Sensitivity\", sens, \"Specificity\", spec)"
   ]
  },
  {
   "cell_type": "code",
   "execution_count": null,
   "metadata": {},
   "outputs": [],
   "source": [
    "learn.export('trainedAllData_resnet_ROI_'+str(size_2)+'_exportFeb21_effB8_2class.pkl')"
   ]
  },
  {
   "cell_type": "markdown",
   "metadata": {},
   "source": [
    "### Test on new data"
   ]
  },
  {
   "cell_type": "code",
   "execution_count": null,
   "metadata": {},
   "outputs": [],
   "source": [
    "learn = load_learner(path,'trainedAllData_resnet_ROI_'+str(size_2)+'_exportFeb21.pkl')\n"
   ]
  },
  {
   "cell_type": "code",
   "execution_count": null,
   "metadata": {},
   "outputs": [],
   "source": [
    "# Data from trueta, Tic Salut, Udiat\n",
    "dfTest = pd.read_csv(path+'covid_local/covid_local_APonly.csv',header=None)\n",
    "dfTest[0] = 'covid_local/processed/' + dfTest[0].astype(str)\n",
    "dfTest.loc[dfTest[1] == ('normal') , 1] = 'normal'\n",
    "print(\"Local\", len(dfTest))\n",
    "\n",
    "\n",
    "#CSMS (earlier files <20 cases)\n",
    "dfTest2 = pd.read_csv(path+'CSMS/CSMS.csv',header=None)\n",
    "dfTest2[0] = 'CSMS/processed/' + dfTest2[0].astype(str)\n",
    "dfTest2.loc[dfTest2[1] == ('normal') , 1] = 'normal'\n",
    "\n",
    "dfTest2.head()\n",
    "\n",
    "dfTest = dfTest.append(dfTest2)\n",
    "\n",
    "# # padchest to include normals and pneumonia (not used for training/validation/testing)\n",
    "dfTest3 = pd.read_csv(path+'padchest/test_split_np.csv',header=None)\n",
    "dfTest3[0] = 'padchest/testNP/processed/' + dfTest3[0].astype(str)\n",
    "dfTest3.loc[dfTest3[1] == ('normal') , 1] = 'normal'\n",
    "dfTest3.loc[dfTest3[1] == ('pneumonia') , 1] = 'normal'\n",
    "dfTest = dfTest.append(dfTest3)\n",
    "\n",
    "# salutms (120 cases) all COVID-19 in jpg\n",
    "dfTest4 = pd.read_csv(path+'salutms/salutms_detect.csv',header=None)\n",
    "dfTest4[0] = 'salutms/processed/' + dfTest4[0].astype(str)\n",
    "dfTest = dfTest.append(dfTest4)\n",
    "\n",
    "\n",
    "# # # salutms_xnat (217 cases) . Using salut cases!?\n",
    "# df_salut = pd.read_csv(path+'salutms_xnat/salutms_xnat2.csv',header=None)\n",
    "# df_salut[0] = 'salutms_xnat/img/processed/' + df_salut[0].astype(str)\n",
    "# df_salut.loc[df_salut[1] == ('Cardiopatia') , 1] = 'normal'\n",
    "# df_salut.loc[df_salut[1] == ('Fractura') , 1] = 'normal'\n",
    "# df_salut = df_salut.drop(2, 1)\n",
    "\n",
    "# # dfTest = dfTest.append(df_salut)\n",
    "# dfTest = df_salut\n",
    "\n",
    "\n",
    "dfTest.rename(columns={1: \"Class\"},  inplace=True)\n",
    "dfTest.rename(columns={0: \"File\"},  inplace=True)\n"
   ]
  },
  {
   "cell_type": "code",
   "execution_count": null,
   "metadata": {},
   "outputs": [],
   "source": [
    "print(\"Test \",len(dfTest))\n",
    "print(\"Normal\",sum(dfTest[\"Class\"]==\"normal\"))\n",
    "print(\"COVID-19\",sum(dfTest[\"Class\"]==\"COVID-19\"))\n",
    "\n",
    "dfTest.tail()\n"
   ]
  },
  {
   "cell_type": "code",
   "execution_count": null,
   "metadata": {},
   "outputs": [],
   "source": [
    "print(imagenet_stats)"
   ]
  },
  {
   "cell_type": "code",
   "execution_count": null,
   "metadata": {},
   "outputs": [],
   "source": [
    "src = (ImageList.from_df(df=dfTest,path=path,convert_mode='L')\n",
    "    .split_none()\n",
    "    .label_from_df())\n",
    "\n",
    "test = (src.transform([], size=512)\n",
    "        .databunch(no_check=False,bs=1).normalize(imagenet_stats))\n",
    "test.train_dl"
   ]
  },
  {
   "cell_type": "code",
   "execution_count": null,
   "metadata": {
    "scrolled": true
   },
   "outputs": [],
   "source": [
    "test.valid_dl = test.train_dl\n",
    "\n",
    "test.show_batch(rows=13,figsize=(15,15))\n",
    "\n",
    "for itemList in [\"train_dl\", \"valid_dl\", \"fix_dl\", \"test_dl\"]:\n",
    "    itemList = getattr(test, itemList)\n",
    "    if itemList: itemList.x.convert_mode = \"L\"\n",
    "\n",
    "\n",
    "learn.data.valid_dl = test.train_dl\n",
    "interp = ClassificationInterpretation.from_learner(learn)\n",
    "losses,idxs = interp.top_losses()\n",
    "\n",
    "#len(data.valid_ds)==len(losses)==len(idxs)\n",
    "interp.plot_confusion_matrix(figsize=(12,12), dpi=60)"
   ]
  },
  {
   "cell_type": "code",
   "execution_count": null,
   "metadata": {
    "scrolled": true
   },
   "outputs": [],
   "source": [
    "mat = interp.confusion_matrix()\n",
    "print(mat)"
   ]
  },
  {
   "cell_type": "code",
   "execution_count": null,
   "metadata": {},
   "outputs": [],
   "source": [
    "diag = sum(mat[i][i] for i in range(len(mat)))\n",
    "sens = np.zeros(len(mat))\n",
    "spec = np.zeros(len(mat))\n",
    "for i in range(len(mat)):\n",
    "    tp = mat[i,i]\n",
    "    fp = sum(mat[:,i])-tp\n",
    "    fn = sum(mat[i,:])-tp\n",
    "    tn = diag - tp\n",
    "#     print(tp, fp, fn, tn)\n",
    "    sens[i] = tp/(tp + fn)\n",
    "    spec[i] = tn/(fp + tn)\n",
    "print (\"Sensitivity\", sens, \"Specificity\", spec)"
   ]
  },
  {
   "cell_type": "code",
   "execution_count": null,
   "metadata": {},
   "outputs": [],
   "source": [
    "log_preds, y = learn.get_preds()\n",
    "\n",
    "predIdxs = np.argmax(log_preds.numpy(), axis=1)\n",
    "print(exp(log_preds))\n",
    "\n"
   ]
  },
  {
   "cell_type": "code",
   "execution_count": null,
   "metadata": {},
   "outputs": [],
   "source": [
    "len(data.valid_ds)\n",
    "predIdxs\n",
    "log_preds\n",
    "predIdxs"
   ]
  },
  {
   "cell_type": "code",
   "execution_count": null,
   "metadata": {},
   "outputs": [],
   "source": [
    "interp.plot_top_losses(25, figsize=(15,11), largest=True, heatmap= True)"
   ]
  },
  {
   "cell_type": "code",
   "execution_count": null,
   "metadata": {
    "scrolled": true
   },
   "outputs": [],
   "source": [
    "interp.plot_top_losses(25, figsize=(15,11), largest=False, heatmap= True)"
   ]
  }
 ],
 "metadata": {
  "kernelspec": {
   "display_name": "fastai-3.6",
   "language": "python",
   "name": "fastai-3.6"
  },
  "language_info": {
   "codemirror_mode": {
    "name": "ipython",
    "version": 3
   },
   "file_extension": ".py",
   "mimetype": "text/x-python",
   "name": "python",
   "nbconvert_exporter": "python",
   "pygments_lexer": "ipython3",
   "version": "3.6.10"
  }
 },
 "nbformat": 4,
 "nbformat_minor": 2
}
